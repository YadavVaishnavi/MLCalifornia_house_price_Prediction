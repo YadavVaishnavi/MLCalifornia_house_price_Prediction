{
 "cells": [
  {
   "cell_type": "code",
   "execution_count": 1,
   "id": "4db459fa",
   "metadata": {},
   "outputs": [],
   "source": [
    "import numpy as np\n",
    "import pandas as pd\n",
    "import matplotlib.pyplot as plt\n",
    "import seaborn as sns\n",
    "%matplotlib inline"
   ]
  },
  {
   "cell_type": "code",
   "execution_count": 2,
   "id": "f59a4ef0",
   "metadata": {},
   "outputs": [],
   "source": [
    "data = pd.read_csv(r'C:\\Users\\vaishnavi\\COLLEGE PRACTICAL\\housing.csv')"
   ]
  },
  {
   "cell_type": "code",
   "execution_count": 3,
   "id": "2b4c6f63",
   "metadata": {},
   "outputs": [],
   "source": [
    "df = data.copy()"
   ]
  },
  {
   "cell_type": "code",
   "execution_count": 4,
   "id": "4fe8c19e",
   "metadata": {},
   "outputs": [
    {
     "data": {
      "text/html": [
       "<div>\n",
       "<style scoped>\n",
       "    .dataframe tbody tr th:only-of-type {\n",
       "        vertical-align: middle;\n",
       "    }\n",
       "\n",
       "    .dataframe tbody tr th {\n",
       "        vertical-align: top;\n",
       "    }\n",
       "\n",
       "    .dataframe thead th {\n",
       "        text-align: right;\n",
       "    }\n",
       "</style>\n",
       "<table border=\"1\" class=\"dataframe\">\n",
       "  <thead>\n",
       "    <tr style=\"text-align: right;\">\n",
       "      <th></th>\n",
       "      <th>longitude</th>\n",
       "      <th>latitude</th>\n",
       "      <th>housing_median_age</th>\n",
       "      <th>total_rooms</th>\n",
       "      <th>total_bedrooms</th>\n",
       "      <th>population</th>\n",
       "      <th>households</th>\n",
       "      <th>median_income</th>\n",
       "      <th>median_house_value</th>\n",
       "      <th>ocean_proximity</th>\n",
       "    </tr>\n",
       "  </thead>\n",
       "  <tbody>\n",
       "    <tr>\n",
       "      <th>0</th>\n",
       "      <td>-122.23</td>\n",
       "      <td>37.88</td>\n",
       "      <td>41.0</td>\n",
       "      <td>880.0</td>\n",
       "      <td>129.0</td>\n",
       "      <td>322.0</td>\n",
       "      <td>126.0</td>\n",
       "      <td>8.3252</td>\n",
       "      <td>452600.0</td>\n",
       "      <td>NEAR BAY</td>\n",
       "    </tr>\n",
       "    <tr>\n",
       "      <th>1</th>\n",
       "      <td>-122.22</td>\n",
       "      <td>37.86</td>\n",
       "      <td>21.0</td>\n",
       "      <td>7099.0</td>\n",
       "      <td>1106.0</td>\n",
       "      <td>2401.0</td>\n",
       "      <td>1138.0</td>\n",
       "      <td>8.3014</td>\n",
       "      <td>358500.0</td>\n",
       "      <td>NEAR BAY</td>\n",
       "    </tr>\n",
       "    <tr>\n",
       "      <th>2</th>\n",
       "      <td>-122.24</td>\n",
       "      <td>37.85</td>\n",
       "      <td>52.0</td>\n",
       "      <td>1467.0</td>\n",
       "      <td>190.0</td>\n",
       "      <td>496.0</td>\n",
       "      <td>177.0</td>\n",
       "      <td>7.2574</td>\n",
       "      <td>352100.0</td>\n",
       "      <td>NEAR BAY</td>\n",
       "    </tr>\n",
       "    <tr>\n",
       "      <th>3</th>\n",
       "      <td>-122.25</td>\n",
       "      <td>37.85</td>\n",
       "      <td>52.0</td>\n",
       "      <td>1274.0</td>\n",
       "      <td>235.0</td>\n",
       "      <td>558.0</td>\n",
       "      <td>219.0</td>\n",
       "      <td>5.6431</td>\n",
       "      <td>341300.0</td>\n",
       "      <td>NEAR BAY</td>\n",
       "    </tr>\n",
       "    <tr>\n",
       "      <th>4</th>\n",
       "      <td>-122.25</td>\n",
       "      <td>37.85</td>\n",
       "      <td>52.0</td>\n",
       "      <td>1627.0</td>\n",
       "      <td>280.0</td>\n",
       "      <td>565.0</td>\n",
       "      <td>259.0</td>\n",
       "      <td>3.8462</td>\n",
       "      <td>342200.0</td>\n",
       "      <td>NEAR BAY</td>\n",
       "    </tr>\n",
       "  </tbody>\n",
       "</table>\n",
       "</div>"
      ],
      "text/plain": [
       "   longitude  latitude  housing_median_age  total_rooms  total_bedrooms  \\\n",
       "0    -122.23     37.88                41.0        880.0           129.0   \n",
       "1    -122.22     37.86                21.0       7099.0          1106.0   \n",
       "2    -122.24     37.85                52.0       1467.0           190.0   \n",
       "3    -122.25     37.85                52.0       1274.0           235.0   \n",
       "4    -122.25     37.85                52.0       1627.0           280.0   \n",
       "\n",
       "   population  households  median_income  median_house_value ocean_proximity  \n",
       "0       322.0       126.0         8.3252            452600.0        NEAR BAY  \n",
       "1      2401.0      1138.0         8.3014            358500.0        NEAR BAY  \n",
       "2       496.0       177.0         7.2574            352100.0        NEAR BAY  \n",
       "3       558.0       219.0         5.6431            341300.0        NEAR BAY  \n",
       "4       565.0       259.0         3.8462            342200.0        NEAR BAY  "
      ]
     },
     "execution_count": 4,
     "metadata": {},
     "output_type": "execute_result"
    }
   ],
   "source": [
    "df.head()"
   ]
  },
  {
   "cell_type": "code",
   "execution_count": 5,
   "id": "87a5dbba",
   "metadata": {},
   "outputs": [
    {
     "name": "stdout",
     "output_type": "stream",
     "text": [
      "<class 'pandas.core.frame.DataFrame'>\n",
      "RangeIndex: 20640 entries, 0 to 20639\n",
      "Data columns (total 10 columns):\n",
      " #   Column              Non-Null Count  Dtype  \n",
      "---  ------              --------------  -----  \n",
      " 0   longitude           20640 non-null  float64\n",
      " 1   latitude            20640 non-null  float64\n",
      " 2   housing_median_age  20640 non-null  float64\n",
      " 3   total_rooms         20640 non-null  float64\n",
      " 4   total_bedrooms      20433 non-null  float64\n",
      " 5   population          20640 non-null  float64\n",
      " 6   households          20640 non-null  float64\n",
      " 7   median_income       20640 non-null  float64\n",
      " 8   median_house_value  20640 non-null  float64\n",
      " 9   ocean_proximity     20640 non-null  object \n",
      "dtypes: float64(9), object(1)\n",
      "memory usage: 1.6+ MB\n"
     ]
    }
   ],
   "source": [
    "df.info()"
   ]
  },
  {
   "cell_type": "markdown",
   "id": "7cc33dfd",
   "metadata": {},
   "source": [
    "There are 9 numeric and only 1 categorical variable"
   ]
  },
  {
   "cell_type": "code",
   "execution_count": 6,
   "id": "3496bd61",
   "metadata": {},
   "outputs": [
    {
     "data": {
      "text/plain": [
       "total_bedrooms        207\n",
       "longitude               0\n",
       "latitude                0\n",
       "housing_median_age      0\n",
       "total_rooms             0\n",
       "population              0\n",
       "households              0\n",
       "median_income           0\n",
       "median_house_value      0\n",
       "ocean_proximity         0\n",
       "dtype: int64"
      ]
     },
     "execution_count": 6,
     "metadata": {},
     "output_type": "execute_result"
    }
   ],
   "source": [
    "df.isnull().sum().sort_values(ascending=False)"
   ]
  },
  {
   "cell_type": "markdown",
   "id": "e8c4f722",
   "metadata": {},
   "source": [
    "There are 207 missing values in column 'total_bedrooms'"
   ]
  },
  {
   "cell_type": "code",
   "execution_count": 7,
   "id": "80367426",
   "metadata": {},
   "outputs": [
    {
     "data": {
      "text/html": [
       "<div>\n",
       "<style scoped>\n",
       "    .dataframe tbody tr th:only-of-type {\n",
       "        vertical-align: middle;\n",
       "    }\n",
       "\n",
       "    .dataframe tbody tr th {\n",
       "        vertical-align: top;\n",
       "    }\n",
       "\n",
       "    .dataframe thead th {\n",
       "        text-align: right;\n",
       "    }\n",
       "</style>\n",
       "<table border=\"1\" class=\"dataframe\">\n",
       "  <thead>\n",
       "    <tr style=\"text-align: right;\">\n",
       "      <th></th>\n",
       "      <th>longitude</th>\n",
       "      <th>latitude</th>\n",
       "      <th>housing_median_age</th>\n",
       "      <th>total_rooms</th>\n",
       "      <th>total_bedrooms</th>\n",
       "      <th>population</th>\n",
       "      <th>households</th>\n",
       "      <th>median_income</th>\n",
       "      <th>median_house_value</th>\n",
       "    </tr>\n",
       "  </thead>\n",
       "  <tbody>\n",
       "    <tr>\n",
       "      <th>count</th>\n",
       "      <td>20640.000000</td>\n",
       "      <td>20640.000000</td>\n",
       "      <td>20640.000000</td>\n",
       "      <td>20640.000000</td>\n",
       "      <td>20433.000000</td>\n",
       "      <td>20640.000000</td>\n",
       "      <td>20640.000000</td>\n",
       "      <td>20640.000000</td>\n",
       "      <td>20640.000000</td>\n",
       "    </tr>\n",
       "    <tr>\n",
       "      <th>mean</th>\n",
       "      <td>-119.569704</td>\n",
       "      <td>35.631861</td>\n",
       "      <td>28.639486</td>\n",
       "      <td>2635.763081</td>\n",
       "      <td>537.870553</td>\n",
       "      <td>1425.476744</td>\n",
       "      <td>499.539680</td>\n",
       "      <td>3.870671</td>\n",
       "      <td>206855.816909</td>\n",
       "    </tr>\n",
       "    <tr>\n",
       "      <th>std</th>\n",
       "      <td>2.003532</td>\n",
       "      <td>2.135952</td>\n",
       "      <td>12.585558</td>\n",
       "      <td>2181.615252</td>\n",
       "      <td>421.385070</td>\n",
       "      <td>1132.462122</td>\n",
       "      <td>382.329753</td>\n",
       "      <td>1.899822</td>\n",
       "      <td>115395.615874</td>\n",
       "    </tr>\n",
       "    <tr>\n",
       "      <th>min</th>\n",
       "      <td>-124.350000</td>\n",
       "      <td>32.540000</td>\n",
       "      <td>1.000000</td>\n",
       "      <td>2.000000</td>\n",
       "      <td>1.000000</td>\n",
       "      <td>3.000000</td>\n",
       "      <td>1.000000</td>\n",
       "      <td>0.499900</td>\n",
       "      <td>14999.000000</td>\n",
       "    </tr>\n",
       "    <tr>\n",
       "      <th>25%</th>\n",
       "      <td>-121.800000</td>\n",
       "      <td>33.930000</td>\n",
       "      <td>18.000000</td>\n",
       "      <td>1447.750000</td>\n",
       "      <td>296.000000</td>\n",
       "      <td>787.000000</td>\n",
       "      <td>280.000000</td>\n",
       "      <td>2.563400</td>\n",
       "      <td>119600.000000</td>\n",
       "    </tr>\n",
       "    <tr>\n",
       "      <th>50%</th>\n",
       "      <td>-118.490000</td>\n",
       "      <td>34.260000</td>\n",
       "      <td>29.000000</td>\n",
       "      <td>2127.000000</td>\n",
       "      <td>435.000000</td>\n",
       "      <td>1166.000000</td>\n",
       "      <td>409.000000</td>\n",
       "      <td>3.534800</td>\n",
       "      <td>179700.000000</td>\n",
       "    </tr>\n",
       "    <tr>\n",
       "      <th>75%</th>\n",
       "      <td>-118.010000</td>\n",
       "      <td>37.710000</td>\n",
       "      <td>37.000000</td>\n",
       "      <td>3148.000000</td>\n",
       "      <td>647.000000</td>\n",
       "      <td>1725.000000</td>\n",
       "      <td>605.000000</td>\n",
       "      <td>4.743250</td>\n",
       "      <td>264725.000000</td>\n",
       "    </tr>\n",
       "    <tr>\n",
       "      <th>max</th>\n",
       "      <td>-114.310000</td>\n",
       "      <td>41.950000</td>\n",
       "      <td>52.000000</td>\n",
       "      <td>39320.000000</td>\n",
       "      <td>6445.000000</td>\n",
       "      <td>35682.000000</td>\n",
       "      <td>6082.000000</td>\n",
       "      <td>15.000100</td>\n",
       "      <td>500001.000000</td>\n",
       "    </tr>\n",
       "  </tbody>\n",
       "</table>\n",
       "</div>"
      ],
      "text/plain": [
       "          longitude      latitude  housing_median_age   total_rooms  \\\n",
       "count  20640.000000  20640.000000        20640.000000  20640.000000   \n",
       "mean    -119.569704     35.631861           28.639486   2635.763081   \n",
       "std        2.003532      2.135952           12.585558   2181.615252   \n",
       "min     -124.350000     32.540000            1.000000      2.000000   \n",
       "25%     -121.800000     33.930000           18.000000   1447.750000   \n",
       "50%     -118.490000     34.260000           29.000000   2127.000000   \n",
       "75%     -118.010000     37.710000           37.000000   3148.000000   \n",
       "max     -114.310000     41.950000           52.000000  39320.000000   \n",
       "\n",
       "       total_bedrooms    population    households  median_income  \\\n",
       "count    20433.000000  20640.000000  20640.000000   20640.000000   \n",
       "mean       537.870553   1425.476744    499.539680       3.870671   \n",
       "std        421.385070   1132.462122    382.329753       1.899822   \n",
       "min          1.000000      3.000000      1.000000       0.499900   \n",
       "25%        296.000000    787.000000    280.000000       2.563400   \n",
       "50%        435.000000   1166.000000    409.000000       3.534800   \n",
       "75%        647.000000   1725.000000    605.000000       4.743250   \n",
       "max       6445.000000  35682.000000   6082.000000      15.000100   \n",
       "\n",
       "       median_house_value  \n",
       "count        20640.000000  \n",
       "mean        206855.816909  \n",
       "std         115395.615874  \n",
       "min          14999.000000  \n",
       "25%         119600.000000  \n",
       "50%         179700.000000  \n",
       "75%         264725.000000  \n",
       "max         500001.000000  "
      ]
     },
     "execution_count": 7,
     "metadata": {},
     "output_type": "execute_result"
    }
   ],
   "source": [
    "df.describe()"
   ]
  },
  {
   "cell_type": "code",
   "execution_count": 8,
   "id": "55be77e4",
   "metadata": {},
   "outputs": [
    {
     "data": {
      "text/plain": [
       "total_rooms           4.147343\n",
       "total_bedrooms        3.459546\n",
       "population            4.935858\n",
       "households            3.410438\n",
       "median_income         1.646657\n",
       "median_house_value    0.977763\n",
       "dtype: float64"
      ]
     },
     "execution_count": 8,
     "metadata": {},
     "output_type": "execute_result"
    }
   ],
   "source": [
    "df.select_dtypes(np.number).skew()[abs(df.select_dtypes(np.number).skew()) > 0.75]"
   ]
  },
  {
   "cell_type": "markdown",
   "id": "1b7eda5d",
   "metadata": {},
   "source": [
    "These are highly skewed columns which will require transformation"
   ]
  },
  {
   "cell_type": "code",
   "execution_count": 9,
   "id": "3bd3d360",
   "metadata": {},
   "outputs": [
    {
     "data": {
      "text/plain": [
       "<AxesSubplot:>"
      ]
     },
     "execution_count": 9,
     "metadata": {},
     "output_type": "execute_result"
    },
    {
     "data": {
      "image/png": "[encoded data removed]",
      "text/plain": [
       "<Figure size 576x504 with 2 Axes>"
      ]
     },
     "metadata": {
      "needs_background": "light"
     },
     "output_type": "display_data"
    }
   ],
   "source": [
    "corr = df.corr()\n",
    "matrix = np.triu(corr)\n",
    "plt.figure(figsize=(8,7))\n",
    "cmap = sns.diverging_palette(220,10,75, as_cmap=True, center = 'light')\n",
    "sns.heatmap(df.corr(), cmap = cmap, linecolor= 'white', linewidths=2, mask=matrix, annot=True)"
   ]
  },
  {
   "cell_type": "markdown",
   "id": "7fac96e3",
   "metadata": {},
   "source": [
    "Some of the independent variables are highly correlated which can have a negative impact on regression model"
   ]
  },
  {
   "cell_type": "code",
   "execution_count": 10,
   "id": "df0f6893",
   "metadata": {},
   "outputs": [
    {
     "data": {
      "text/plain": [
       "<AxesSubplot:xlabel='households', ylabel='total_bedrooms'>"
      ]
     },
     "execution_count": 10,
     "metadata": {},
     "output_type": "execute_result"
    },
    {
     "data": {
      "image/png": "[encoded data removed]",
      "text/plain": [
       "<Figure size 432x288 with 1 Axes>"
      ]
     },
     "metadata": {
      "needs_background": "light"
     },
     "output_type": "display_data"
    }
   ],
   "source": [
    "#Checking households vs total_bedrooms\n",
    "sns.scatterplot(data=df, x = 'households', y = 'total_bedrooms')"
   ]
  },
  {
   "cell_type": "code",
   "execution_count": 11,
   "id": "878bc9af",
   "metadata": {},
   "outputs": [
    {
     "data": {
      "text/plain": [
       "<AxesSubplot:xlabel='total_rooms', ylabel='total_bedrooms'>"
      ]
     },
     "execution_count": 11,
     "metadata": {},
     "output_type": "execute_result"
    },
    {
     "data": {
      "image/png": "[encoded data removed]",
      "text/plain": [
       "<Figure size 432x288 with 1 Axes>"
      ]
     },
     "metadata": {
      "needs_background": "light"
     },
     "output_type": "display_data"
    }
   ],
   "source": [
    "#checking total_rooms vs total_bedrooms\n",
    "sns.scatterplot(data=df, x = 'total_rooms', y = 'total_bedrooms')"
   ]
  },
  {
   "cell_type": "markdown",
   "id": "4d082bca",
   "metadata": {},
   "source": [
    "These two columns have a positive correlation"
   ]
  },
  {
   "cell_type": "code",
   "execution_count": 12,
   "id": "e98a2716",
   "metadata": {},
   "outputs": [
    {
     "data": {
      "text/plain": [
       "array([<AxesSubplot:title={'center':'housing_median_age'}>,\n",
       "       <AxesSubplot:title={'center':'total_rooms'}>,\n",
       "       <AxesSubplot:title={'center':'total_bedrooms'}>,\n",
       "       <AxesSubplot:title={'center':'population'}>,\n",
       "       <AxesSubplot:title={'center':'households'}>,\n",
       "       <AxesSubplot:title={'center':'median_income'}>,\n",
       "       <AxesSubplot:title={'center':'median_house_value'}>], dtype=object)"
      ]
     },
     "execution_count": 12,
     "metadata": {},
     "output_type": "execute_result"
    },
    {
     "data": {
      "image/png": "[encoded data removed]",
      "text/plain": [
       "<Figure size 1440x216 with 7 Axes>"
      ]
     },
     "metadata": {
      "needs_background": "light"
     },
     "output_type": "display_data"
    }
   ],
   "source": [
    "fig, (axes) = plt.subplots(1,7, figsize=(20,3))\n",
    "df.drop(['latitude', 'longitude', 'ocean_proximity'], axis=1).hist(ax=axes)"
   ]
  },
  {
   "cell_type": "markdown",
   "id": "bcf57624",
   "metadata": {},
   "source": [
    "There are a lot of skewed columns which will require transformations, as found before."
   ]
  },
  {
   "cell_type": "code",
   "execution_count": 13,
   "id": "8d8faa17",
   "metadata": {},
   "outputs": [
    {
     "data": {
      "text/html": [
       "<div>\n",
       "<style scoped>\n",
       "    .dataframe tbody tr th:only-of-type {\n",
       "        vertical-align: middle;\n",
       "    }\n",
       "\n",
       "    .dataframe tbody tr th {\n",
       "        vertical-align: top;\n",
       "    }\n",
       "\n",
       "    .dataframe thead th {\n",
       "        text-align: right;\n",
       "    }\n",
       "</style>\n",
       "<table border=\"1\" class=\"dataframe\">\n",
       "  <thead>\n",
       "    <tr style=\"text-align: right;\">\n",
       "      <th></th>\n",
       "      <th>longitude</th>\n",
       "      <th>latitude</th>\n",
       "      <th>housing_median_age</th>\n",
       "      <th>total_rooms</th>\n",
       "      <th>total_bedrooms</th>\n",
       "      <th>population</th>\n",
       "      <th>households</th>\n",
       "      <th>median_income</th>\n",
       "      <th>median_house_value</th>\n",
       "      <th>ocean_proximity</th>\n",
       "    </tr>\n",
       "  </thead>\n",
       "  <tbody>\n",
       "    <tr>\n",
       "      <th>0</th>\n",
       "      <td>-122.23</td>\n",
       "      <td>37.88</td>\n",
       "      <td>41.0</td>\n",
       "      <td>880.0</td>\n",
       "      <td>129.0</td>\n",
       "      <td>322.0</td>\n",
       "      <td>126.0</td>\n",
       "      <td>8.3252</td>\n",
       "      <td>452600.0</td>\n",
       "      <td>NEAR BAY</td>\n",
       "    </tr>\n",
       "    <tr>\n",
       "      <th>1</th>\n",
       "      <td>-122.22</td>\n",
       "      <td>37.86</td>\n",
       "      <td>21.0</td>\n",
       "      <td>7099.0</td>\n",
       "      <td>1106.0</td>\n",
       "      <td>2401.0</td>\n",
       "      <td>1138.0</td>\n",
       "      <td>8.3014</td>\n",
       "      <td>358500.0</td>\n",
       "      <td>NEAR BAY</td>\n",
       "    </tr>\n",
       "    <tr>\n",
       "      <th>2</th>\n",
       "      <td>-122.24</td>\n",
       "      <td>37.85</td>\n",
       "      <td>52.0</td>\n",
       "      <td>1467.0</td>\n",
       "      <td>190.0</td>\n",
       "      <td>496.0</td>\n",
       "      <td>177.0</td>\n",
       "      <td>7.2574</td>\n",
       "      <td>352100.0</td>\n",
       "      <td>NEAR BAY</td>\n",
       "    </tr>\n",
       "    <tr>\n",
       "      <th>3</th>\n",
       "      <td>-122.25</td>\n",
       "      <td>37.85</td>\n",
       "      <td>52.0</td>\n",
       "      <td>1274.0</td>\n",
       "      <td>235.0</td>\n",
       "      <td>558.0</td>\n",
       "      <td>219.0</td>\n",
       "      <td>5.6431</td>\n",
       "      <td>341300.0</td>\n",
       "      <td>NEAR BAY</td>\n",
       "    </tr>\n",
       "    <tr>\n",
       "      <th>4</th>\n",
       "      <td>-122.25</td>\n",
       "      <td>37.85</td>\n",
       "      <td>52.0</td>\n",
       "      <td>1627.0</td>\n",
       "      <td>280.0</td>\n",
       "      <td>565.0</td>\n",
       "      <td>259.0</td>\n",
       "      <td>3.8462</td>\n",
       "      <td>342200.0</td>\n",
       "      <td>NEAR BAY</td>\n",
       "    </tr>\n",
       "  </tbody>\n",
       "</table>\n",
       "</div>"
      ],
      "text/plain": [
       "   longitude  latitude  housing_median_age  total_rooms  total_bedrooms  \\\n",
       "0    -122.23     37.88                41.0        880.0           129.0   \n",
       "1    -122.22     37.86                21.0       7099.0          1106.0   \n",
       "2    -122.24     37.85                52.0       1467.0           190.0   \n",
       "3    -122.25     37.85                52.0       1274.0           235.0   \n",
       "4    -122.25     37.85                52.0       1627.0           280.0   \n",
       "\n",
       "   population  households  median_income  median_house_value ocean_proximity  \n",
       "0       322.0       126.0         8.3252            452600.0        NEAR BAY  \n",
       "1      2401.0      1138.0         8.3014            358500.0        NEAR BAY  \n",
       "2       496.0       177.0         7.2574            352100.0        NEAR BAY  \n",
       "3       558.0       219.0         5.6431            341300.0        NEAR BAY  \n",
       "4       565.0       259.0         3.8462            342200.0        NEAR BAY  "
      ]
     },
     "execution_count": 13,
     "metadata": {},
     "output_type": "execute_result"
    }
   ],
   "source": [
    "df.head()"
   ]
  },
  {
   "cell_type": "markdown",
   "id": "67c56da2",
   "metadata": {},
   "source": [
    "Exploring data"
   ]
  },
  {
   "cell_type": "code",
   "execution_count": 14,
   "id": "880b177e",
   "metadata": {},
   "outputs": [
    {
     "data": {
      "text/plain": [
       "<AxesSubplot:xlabel='housing_median_age', ylabel='Density'>"
      ]
     },
     "execution_count": 14,
     "metadata": {},
     "output_type": "execute_result"
    },
    {
     "data": {
      "image/png": "[encoded data removed]",
      "text/plain": [
       "<Figure size 432x288 with 1 Axes>"
      ]
     },
     "metadata": {
      "needs_background": "light"
     },
     "output_type": "display_data"
    }
   ],
   "source": [
    "sns.kdeplot(x = df['housing_median_age'], fill=True, hue=df['ocean_proximity'])"
   ]
  },
  {
   "cell_type": "code",
   "execution_count": 15,
   "id": "41dfa4b5",
   "metadata": {},
   "outputs": [
    {
     "data": {
      "text/plain": [
       "<AxesSubplot:xlabel='median_house_value', ylabel='Density'>"
      ]
     },
     "execution_count": 15,
     "metadata": {},
     "output_type": "execute_result"
    },
    {
     "data": {
      "image/png": "[encoded data removed]",
      "text/plain": [
       "<Figure size 432x288 with 1 Axes>"
      ]
     },
     "metadata": {
      "needs_background": "light"
     },
     "output_type": "display_data"
    }
   ],
   "source": [
    "sns.kdeplot(x=df['median_house_value'], hue=df['ocean_proximity'],fill=True )"
   ]
  },
  {
   "cell_type": "markdown",
   "id": "7e09facf",
   "metadata": {},
   "source": [
    "1)Most of the inland houses have a low median_house_value, followed by Ocean proximity houses"
   ]
  },
  {
   "cell_type": "code",
   "execution_count": 16,
   "id": "5cff848b",
   "metadata": {},
   "outputs": [
    {
     "data": {
      "text/plain": [
       "ocean_proximity\n",
       "INLAND        124805.392001\n",
       "<1H OCEAN     240084.285464\n",
       "NEAR OCEAN    249433.977427\n",
       "NEAR BAY      259212.311790\n",
       "ISLAND        380440.000000\n",
       "Name: median_house_value, dtype: float64"
      ]
     },
     "execution_count": 16,
     "metadata": {},
     "output_type": "execute_result"
    }
   ],
   "source": [
    "a = df.groupby(by='ocean_proximity')\n",
    "a.mean()['median_house_value'].sort_values()"
   ]
  },
  {
   "cell_type": "code",
   "execution_count": 2,
   "id": "ac7388b5",
   "metadata": {},
   "outputs": [
    {
     "ename": "NameError",
     "evalue": "name 'df' is not defined",
     "output_type": "error",
     "traceback": [
      "\u001b[1;31m---------------------------------------------------------------------------\u001b[0m",
      "\u001b[1;31mNameError\u001b[0m                                 Traceback (most recent call last)",
      "\u001b[1;32mC:\\Users\\VAISHN~1\\AppData\\Local\\Temp/ipykernel_17188/355893786.py\u001b[0m in \u001b[0;36m<module>\u001b[1;34m\u001b[0m\n\u001b[1;32m----> 1\u001b[1;33m \u001b[0msns\u001b[0m\u001b[1;33m.\u001b[0m\u001b[0mbarplot\u001b[0m\u001b[1;33m(\u001b[0m\u001b[0mdata\u001b[0m\u001b[1;33m=\u001b[0m\u001b[0mdf\u001b[0m\u001b[1;33m,\u001b[0m\u001b[0mx\u001b[0m\u001b[1;33m=\u001b[0m\u001b[1;34m'ocean_proximity'\u001b[0m\u001b[1;33m,\u001b[0m \u001b[0my\u001b[0m\u001b[1;33m=\u001b[0m\u001b[1;34m'population'\u001b[0m \u001b[1;33m)\u001b[0m\u001b[1;33m\u001b[0m\u001b[1;33m\u001b[0m\u001b[0m\n\u001b[0m",
      "\u001b[1;31mNameError\u001b[0m: name 'df' is not defined"
     ]
    }
   ],
   "source": [
    "sns.barplot(data=df,x='ocean_proximity', y='population' )"
   ]
  },
  {
   "cell_type": "code",
   "execution_count": null,
   "id": "791550c3",
   "metadata": {},
   "outputs": [],
   "source": [
    "sns.barplot(data=df, x='ocean_proximity', y='median_income')"
   ]
  },
  {
   "cell_type": "markdown",
   "id": "c67b332e",
   "metadata": {},
   "source": [
    "Treating Missing Values"
   ]
  },
  {
   "cell_type": "code",
   "execution_count": null,
   "id": "6d97fba7",
   "metadata": {},
   "outputs": [],
   "source": [
    "sns.heatmap(df.isnull(), cmap='viridis')"
   ]
  },
  {
   "cell_type": "code",
   "execution_count": null,
   "id": "50c35aa3",
   "metadata": {},
   "outputs": [],
   "source": [
    "df.isnull().sum()"
   ]
  },
  {
   "cell_type": "code",
   "execution_count": 18,
   "id": "66f72841",
   "metadata": {},
   "outputs": [
    {
     "data": {
      "text/plain": [
       "<AxesSubplot:xlabel='total_bedrooms', ylabel='Count'>"
      ]
     },
     "execution_count": 18,
     "metadata": {},
     "output_type": "execute_result"
    },
    {
     "data": {
      "image/png": "[encoded data removed]",
      "text/plain": [
       "<Figure size 432x288 with 1 Axes>"
      ]
     },
     "metadata": {
      "needs_background": "light"
     },
     "output_type": "display_data"
    }
   ],
   "source": [
    "sns.histplot(df['total_bedrooms'], bins=50)"
   ]
  },
  {
   "cell_type": "code",
   "execution_count": 19,
   "id": "9522f910",
   "metadata": {},
   "outputs": [
    {
     "data": {
      "text/plain": [
       "count    20433.000000\n",
       "mean       537.870553\n",
       "std        421.385070\n",
       "min          1.000000\n",
       "25%        296.000000\n",
       "50%        435.000000\n",
       "75%        647.000000\n",
       "max       6445.000000\n",
       "Name: total_bedrooms, dtype: float64"
      ]
     },
     "execution_count": 19,
     "metadata": {},
     "output_type": "execute_result"
    }
   ],
   "source": [
    "df['total_bedrooms'].describe()"
   ]
  },
  {
   "cell_type": "code",
   "execution_count": 20,
   "id": "1a09fa99",
   "metadata": {},
   "outputs": [
    {
     "data": {
      "text/plain": [
       "(20640, 10)"
      ]
     },
     "execution_count": 20,
     "metadata": {},
     "output_type": "execute_result"
    }
   ],
   "source": [
    "df.shape"
   ]
  },
  {
   "cell_type": "code",
   "execution_count": 21,
   "id": "a46b1de1",
   "metadata": {},
   "outputs": [],
   "source": [
    "#Out of 20640, 207 which is almost 1% of total values in missing hence can be dropped \n",
    "df.dropna(inplace=True)\n",
    "df.reset_index(inplace=True)\n",
    "df.drop('index', inplace=True, axis=1)"
   ]
  },
  {
   "cell_type": "code",
   "execution_count": 22,
   "id": "a58843d0",
   "metadata": {},
   "outputs": [
    {
     "data": {
      "text/html": [
       "<div>\n",
       "<style scoped>\n",
       "    .dataframe tbody tr th:only-of-type {\n",
       "        vertical-align: middle;\n",
       "    }\n",
       "\n",
       "    .dataframe tbody tr th {\n",
       "        vertical-align: top;\n",
       "    }\n",
       "\n",
       "    .dataframe thead th {\n",
       "        text-align: right;\n",
       "    }\n",
       "</style>\n",
       "<table border=\"1\" class=\"dataframe\">\n",
       "  <thead>\n",
       "    <tr style=\"text-align: right;\">\n",
       "      <th></th>\n",
       "      <th>longitude</th>\n",
       "      <th>latitude</th>\n",
       "      <th>housing_median_age</th>\n",
       "      <th>total_rooms</th>\n",
       "      <th>total_bedrooms</th>\n",
       "      <th>population</th>\n",
       "      <th>households</th>\n",
       "      <th>median_income</th>\n",
       "      <th>median_house_value</th>\n",
       "      <th>ocean_proximity</th>\n",
       "    </tr>\n",
       "  </thead>\n",
       "  <tbody>\n",
       "    <tr>\n",
       "      <th>20428</th>\n",
       "      <td>-121.09</td>\n",
       "      <td>39.48</td>\n",
       "      <td>25.0</td>\n",
       "      <td>1665.0</td>\n",
       "      <td>374.0</td>\n",
       "      <td>845.0</td>\n",
       "      <td>330.0</td>\n",
       "      <td>1.5603</td>\n",
       "      <td>78100.0</td>\n",
       "      <td>INLAND</td>\n",
       "    </tr>\n",
       "    <tr>\n",
       "      <th>20429</th>\n",
       "      <td>-121.21</td>\n",
       "      <td>39.49</td>\n",
       "      <td>18.0</td>\n",
       "      <td>697.0</td>\n",
       "      <td>150.0</td>\n",
       "      <td>356.0</td>\n",
       "      <td>114.0</td>\n",
       "      <td>2.5568</td>\n",
       "      <td>77100.0</td>\n",
       "      <td>INLAND</td>\n",
       "    </tr>\n",
       "    <tr>\n",
       "      <th>20430</th>\n",
       "      <td>-121.22</td>\n",
       "      <td>39.43</td>\n",
       "      <td>17.0</td>\n",
       "      <td>2254.0</td>\n",
       "      <td>485.0</td>\n",
       "      <td>1007.0</td>\n",
       "      <td>433.0</td>\n",
       "      <td>1.7000</td>\n",
       "      <td>92300.0</td>\n",
       "      <td>INLAND</td>\n",
       "    </tr>\n",
       "    <tr>\n",
       "      <th>20431</th>\n",
       "      <td>-121.32</td>\n",
       "      <td>39.43</td>\n",
       "      <td>18.0</td>\n",
       "      <td>1860.0</td>\n",
       "      <td>409.0</td>\n",
       "      <td>741.0</td>\n",
       "      <td>349.0</td>\n",
       "      <td>1.8672</td>\n",
       "      <td>84700.0</td>\n",
       "      <td>INLAND</td>\n",
       "    </tr>\n",
       "    <tr>\n",
       "      <th>20432</th>\n",
       "      <td>-121.24</td>\n",
       "      <td>39.37</td>\n",
       "      <td>16.0</td>\n",
       "      <td>2785.0</td>\n",
       "      <td>616.0</td>\n",
       "      <td>1387.0</td>\n",
       "      <td>530.0</td>\n",
       "      <td>2.3886</td>\n",
       "      <td>89400.0</td>\n",
       "      <td>INLAND</td>\n",
       "    </tr>\n",
       "  </tbody>\n",
       "</table>\n",
       "</div>"
      ],
      "text/plain": [
       "       longitude  latitude  housing_median_age  total_rooms  total_bedrooms  \\\n",
       "20428    -121.09     39.48                25.0       1665.0           374.0   \n",
       "20429    -121.21     39.49                18.0        697.0           150.0   \n",
       "20430    -121.22     39.43                17.0       2254.0           485.0   \n",
       "20431    -121.32     39.43                18.0       1860.0           409.0   \n",
       "20432    -121.24     39.37                16.0       2785.0           616.0   \n",
       "\n",
       "       population  households  median_income  median_house_value  \\\n",
       "20428       845.0       330.0         1.5603             78100.0   \n",
       "20429       356.0       114.0         2.5568             77100.0   \n",
       "20430      1007.0       433.0         1.7000             92300.0   \n",
       "20431       741.0       349.0         1.8672             84700.0   \n",
       "20432      1387.0       530.0         2.3886             89400.0   \n",
       "\n",
       "      ocean_proximity  \n",
       "20428          INLAND  \n",
       "20429          INLAND  \n",
       "20430          INLAND  \n",
       "20431          INLAND  \n",
       "20432          INLAND  "
      ]
     },
     "execution_count": 22,
     "metadata": {},
     "output_type": "execute_result"
    }
   ],
   "source": [
    "df.tail()"
   ]
  },
  {
   "cell_type": "markdown",
   "id": "1dbf6e0a",
   "metadata": {},
   "source": [
    "Encoding Categorial Variable"
   ]
  },
  {
   "cell_type": "code",
   "execution_count": 23,
   "id": "f7bd90da",
   "metadata": {},
   "outputs": [],
   "source": [
    "df_encod = pd.get_dummies(df['ocean_proximity'], drop_first=True)"
   ]
  },
  {
   "cell_type": "code",
   "execution_count": 24,
   "id": "4ca4ffbe",
   "metadata": {},
   "outputs": [
    {
     "data": {
      "text/html": [
       "<div>\n",
       "<style scoped>\n",
       "    .dataframe tbody tr th:only-of-type {\n",
       "        vertical-align: middle;\n",
       "    }\n",
       "\n",
       "    .dataframe tbody tr th {\n",
       "        vertical-align: top;\n",
       "    }\n",
       "\n",
       "    .dataframe thead th {\n",
       "        text-align: right;\n",
       "    }\n",
       "</style>\n",
       "<table border=\"1\" class=\"dataframe\">\n",
       "  <thead>\n",
       "    <tr style=\"text-align: right;\">\n",
       "      <th></th>\n",
       "      <th>INLAND</th>\n",
       "      <th>ISLAND</th>\n",
       "      <th>NEAR BAY</th>\n",
       "      <th>NEAR OCEAN</th>\n",
       "    </tr>\n",
       "  </thead>\n",
       "  <tbody>\n",
       "    <tr>\n",
       "      <th>0</th>\n",
       "      <td>0</td>\n",
       "      <td>0</td>\n",
       "      <td>1</td>\n",
       "      <td>0</td>\n",
       "    </tr>\n",
       "    <tr>\n",
       "      <th>1</th>\n",
       "      <td>0</td>\n",
       "      <td>0</td>\n",
       "      <td>1</td>\n",
       "      <td>0</td>\n",
       "    </tr>\n",
       "    <tr>\n",
       "      <th>2</th>\n",
       "      <td>0</td>\n",
       "      <td>0</td>\n",
       "      <td>1</td>\n",
       "      <td>0</td>\n",
       "    </tr>\n",
       "    <tr>\n",
       "      <th>3</th>\n",
       "      <td>0</td>\n",
       "      <td>0</td>\n",
       "      <td>1</td>\n",
       "      <td>0</td>\n",
       "    </tr>\n",
       "    <tr>\n",
       "      <th>4</th>\n",
       "      <td>0</td>\n",
       "      <td>0</td>\n",
       "      <td>1</td>\n",
       "      <td>0</td>\n",
       "    </tr>\n",
       "  </tbody>\n",
       "</table>\n",
       "</div>"
      ],
      "text/plain": [
       "   INLAND  ISLAND  NEAR BAY  NEAR OCEAN\n",
       "0       0       0         1           0\n",
       "1       0       0         1           0\n",
       "2       0       0         1           0\n",
       "3       0       0         1           0\n",
       "4       0       0         1           0"
      ]
     },
     "execution_count": 24,
     "metadata": {},
     "output_type": "execute_result"
    }
   ],
   "source": [
    "df_encod.head()"
   ]
  },
  {
   "cell_type": "code",
   "execution_count": 25,
   "id": "a27aa633",
   "metadata": {},
   "outputs": [],
   "source": [
    "df = pd.concat([df_encod, df], axis=1)"
   ]
  },
  {
   "cell_type": "code",
   "execution_count": 26,
   "id": "5299d1c0",
   "metadata": {},
   "outputs": [
    {
     "data": {
      "text/html": [
       "<div>\n",
       "<style scoped>\n",
       "    .dataframe tbody tr th:only-of-type {\n",
       "        vertical-align: middle;\n",
       "    }\n",
       "\n",
       "    .dataframe tbody tr th {\n",
       "        vertical-align: top;\n",
       "    }\n",
       "\n",
       "    .dataframe thead th {\n",
       "        text-align: right;\n",
       "    }\n",
       "</style>\n",
       "<table border=\"1\" class=\"dataframe\">\n",
       "  <thead>\n",
       "    <tr style=\"text-align: right;\">\n",
       "      <th></th>\n",
       "      <th>INLAND</th>\n",
       "      <th>ISLAND</th>\n",
       "      <th>NEAR BAY</th>\n",
       "      <th>NEAR OCEAN</th>\n",
       "      <th>longitude</th>\n",
       "      <th>latitude</th>\n",
       "      <th>housing_median_age</th>\n",
       "      <th>total_rooms</th>\n",
       "      <th>total_bedrooms</th>\n",
       "      <th>population</th>\n",
       "      <th>households</th>\n",
       "      <th>median_income</th>\n",
       "      <th>median_house_value</th>\n",
       "      <th>ocean_proximity</th>\n",
       "    </tr>\n",
       "  </thead>\n",
       "  <tbody>\n",
       "    <tr>\n",
       "      <th>0</th>\n",
       "      <td>0</td>\n",
       "      <td>0</td>\n",
       "      <td>1</td>\n",
       "      <td>0</td>\n",
       "      <td>-122.23</td>\n",
       "      <td>37.88</td>\n",
       "      <td>41.0</td>\n",
       "      <td>880.0</td>\n",
       "      <td>129.0</td>\n",
       "      <td>322.0</td>\n",
       "      <td>126.0</td>\n",
       "      <td>8.3252</td>\n",
       "      <td>452600.0</td>\n",
       "      <td>NEAR BAY</td>\n",
       "    </tr>\n",
       "    <tr>\n",
       "      <th>1</th>\n",
       "      <td>0</td>\n",
       "      <td>0</td>\n",
       "      <td>1</td>\n",
       "      <td>0</td>\n",
       "      <td>-122.22</td>\n",
       "      <td>37.86</td>\n",
       "      <td>21.0</td>\n",
       "      <td>7099.0</td>\n",
       "      <td>1106.0</td>\n",
       "      <td>2401.0</td>\n",
       "      <td>1138.0</td>\n",
       "      <td>8.3014</td>\n",
       "      <td>358500.0</td>\n",
       "      <td>NEAR BAY</td>\n",
       "    </tr>\n",
       "    <tr>\n",
       "      <th>2</th>\n",
       "      <td>0</td>\n",
       "      <td>0</td>\n",
       "      <td>1</td>\n",
       "      <td>0</td>\n",
       "      <td>-122.24</td>\n",
       "      <td>37.85</td>\n",
       "      <td>52.0</td>\n",
       "      <td>1467.0</td>\n",
       "      <td>190.0</td>\n",
       "      <td>496.0</td>\n",
       "      <td>177.0</td>\n",
       "      <td>7.2574</td>\n",
       "      <td>352100.0</td>\n",
       "      <td>NEAR BAY</td>\n",
       "    </tr>\n",
       "    <tr>\n",
       "      <th>3</th>\n",
       "      <td>0</td>\n",
       "      <td>0</td>\n",
       "      <td>1</td>\n",
       "      <td>0</td>\n",
       "      <td>-122.25</td>\n",
       "      <td>37.85</td>\n",
       "      <td>52.0</td>\n",
       "      <td>1274.0</td>\n",
       "      <td>235.0</td>\n",
       "      <td>558.0</td>\n",
       "      <td>219.0</td>\n",
       "      <td>5.6431</td>\n",
       "      <td>341300.0</td>\n",
       "      <td>NEAR BAY</td>\n",
       "    </tr>\n",
       "    <tr>\n",
       "      <th>4</th>\n",
       "      <td>0</td>\n",
       "      <td>0</td>\n",
       "      <td>1</td>\n",
       "      <td>0</td>\n",
       "      <td>-122.25</td>\n",
       "      <td>37.85</td>\n",
       "      <td>52.0</td>\n",
       "      <td>1627.0</td>\n",
       "      <td>280.0</td>\n",
       "      <td>565.0</td>\n",
       "      <td>259.0</td>\n",
       "      <td>3.8462</td>\n",
       "      <td>342200.0</td>\n",
       "      <td>NEAR BAY</td>\n",
       "    </tr>\n",
       "  </tbody>\n",
       "</table>\n",
       "</div>"
      ],
      "text/plain": [
       "   INLAND  ISLAND  NEAR BAY  NEAR OCEAN  longitude  latitude  \\\n",
       "0       0       0         1           0    -122.23     37.88   \n",
       "1       0       0         1           0    -122.22     37.86   \n",
       "2       0       0         1           0    -122.24     37.85   \n",
       "3       0       0         1           0    -122.25     37.85   \n",
       "4       0       0         1           0    -122.25     37.85   \n",
       "\n",
       "   housing_median_age  total_rooms  total_bedrooms  population  households  \\\n",
       "0                41.0        880.0           129.0       322.0       126.0   \n",
       "1                21.0       7099.0          1106.0      2401.0      1138.0   \n",
       "2                52.0       1467.0           190.0       496.0       177.0   \n",
       "3                52.0       1274.0           235.0       558.0       219.0   \n",
       "4                52.0       1627.0           280.0       565.0       259.0   \n",
       "\n",
       "   median_income  median_house_value ocean_proximity  \n",
       "0         8.3252            452600.0        NEAR BAY  \n",
       "1         8.3014            358500.0        NEAR BAY  \n",
       "2         7.2574            352100.0        NEAR BAY  \n",
       "3         5.6431            341300.0        NEAR BAY  \n",
       "4         3.8462            342200.0        NEAR BAY  "
      ]
     },
     "execution_count": 26,
     "metadata": {},
     "output_type": "execute_result"
    }
   ],
   "source": [
    "df.head()"
   ]
  },
  {
   "cell_type": "code",
   "execution_count": 27,
   "id": "dce97224",
   "metadata": {},
   "outputs": [],
   "source": [
    "df.drop('ocean_proximity', axis=1, inplace=True)"
   ]
  },
  {
   "cell_type": "code",
   "execution_count": 28,
   "id": "ad29eab9",
   "metadata": {},
   "outputs": [],
   "source": [
    "df.columns = ['inland', 'island', 'near bay', 'near ocean', 'longitude',\n",
    "       'latitude', 'housing_median_age', 'total_rooms', 'total_bedrooms',\n",
    "       'population', 'households', 'median_income', 'median_house_value']"
   ]
  },
  {
   "cell_type": "code",
   "execution_count": 29,
   "id": "a4214e4d",
   "metadata": {},
   "outputs": [
    {
     "data": {
      "text/html": [
       "<div>\n",
       "<style scoped>\n",
       "    .dataframe tbody tr th:only-of-type {\n",
       "        vertical-align: middle;\n",
       "    }\n",
       "\n",
       "    .dataframe tbody tr th {\n",
       "        vertical-align: top;\n",
       "    }\n",
       "\n",
       "    .dataframe thead th {\n",
       "        text-align: right;\n",
       "    }\n",
       "</style>\n",
       "<table border=\"1\" class=\"dataframe\">\n",
       "  <thead>\n",
       "    <tr style=\"text-align: right;\">\n",
       "      <th></th>\n",
       "      <th>inland</th>\n",
       "      <th>island</th>\n",
       "      <th>near bay</th>\n",
       "      <th>near ocean</th>\n",
       "      <th>longitude</th>\n",
       "      <th>latitude</th>\n",
       "      <th>housing_median_age</th>\n",
       "      <th>total_rooms</th>\n",
       "      <th>total_bedrooms</th>\n",
       "      <th>population</th>\n",
       "      <th>households</th>\n",
       "      <th>median_income</th>\n",
       "      <th>median_house_value</th>\n",
       "    </tr>\n",
       "  </thead>\n",
       "  <tbody>\n",
       "    <tr>\n",
       "      <th>0</th>\n",
       "      <td>0</td>\n",
       "      <td>0</td>\n",
       "      <td>1</td>\n",
       "      <td>0</td>\n",
       "      <td>-122.23</td>\n",
       "      <td>37.88</td>\n",
       "      <td>41.0</td>\n",
       "      <td>880.0</td>\n",
       "      <td>129.0</td>\n",
       "      <td>322.0</td>\n",
       "      <td>126.0</td>\n",
       "      <td>8.3252</td>\n",
       "      <td>452600.0</td>\n",
       "    </tr>\n",
       "    <tr>\n",
       "      <th>1</th>\n",
       "      <td>0</td>\n",
       "      <td>0</td>\n",
       "      <td>1</td>\n",
       "      <td>0</td>\n",
       "      <td>-122.22</td>\n",
       "      <td>37.86</td>\n",
       "      <td>21.0</td>\n",
       "      <td>7099.0</td>\n",
       "      <td>1106.0</td>\n",
       "      <td>2401.0</td>\n",
       "      <td>1138.0</td>\n",
       "      <td>8.3014</td>\n",
       "      <td>358500.0</td>\n",
       "    </tr>\n",
       "    <tr>\n",
       "      <th>2</th>\n",
       "      <td>0</td>\n",
       "      <td>0</td>\n",
       "      <td>1</td>\n",
       "      <td>0</td>\n",
       "      <td>-122.24</td>\n",
       "      <td>37.85</td>\n",
       "      <td>52.0</td>\n",
       "      <td>1467.0</td>\n",
       "      <td>190.0</td>\n",
       "      <td>496.0</td>\n",
       "      <td>177.0</td>\n",
       "      <td>7.2574</td>\n",
       "      <td>352100.0</td>\n",
       "    </tr>\n",
       "    <tr>\n",
       "      <th>3</th>\n",
       "      <td>0</td>\n",
       "      <td>0</td>\n",
       "      <td>1</td>\n",
       "      <td>0</td>\n",
       "      <td>-122.25</td>\n",
       "      <td>37.85</td>\n",
       "      <td>52.0</td>\n",
       "      <td>1274.0</td>\n",
       "      <td>235.0</td>\n",
       "      <td>558.0</td>\n",
       "      <td>219.0</td>\n",
       "      <td>5.6431</td>\n",
       "      <td>341300.0</td>\n",
       "    </tr>\n",
       "    <tr>\n",
       "      <th>4</th>\n",
       "      <td>0</td>\n",
       "      <td>0</td>\n",
       "      <td>1</td>\n",
       "      <td>0</td>\n",
       "      <td>-122.25</td>\n",
       "      <td>37.85</td>\n",
       "      <td>52.0</td>\n",
       "      <td>1627.0</td>\n",
       "      <td>280.0</td>\n",
       "      <td>565.0</td>\n",
       "      <td>259.0</td>\n",
       "      <td>3.8462</td>\n",
       "      <td>342200.0</td>\n",
       "    </tr>\n",
       "  </tbody>\n",
       "</table>\n",
       "</div>"
      ],
      "text/plain": [
       "   inland  island  near bay  near ocean  longitude  latitude  \\\n",
       "0       0       0         1           0    -122.23     37.88   \n",
       "1       0       0         1           0    -122.22     37.86   \n",
       "2       0       0         1           0    -122.24     37.85   \n",
       "3       0       0         1           0    -122.25     37.85   \n",
       "4       0       0         1           0    -122.25     37.85   \n",
       "\n",
       "   housing_median_age  total_rooms  total_bedrooms  population  households  \\\n",
       "0                41.0        880.0           129.0       322.0       126.0   \n",
       "1                21.0       7099.0          1106.0      2401.0      1138.0   \n",
       "2                52.0       1467.0           190.0       496.0       177.0   \n",
       "3                52.0       1274.0           235.0       558.0       219.0   \n",
       "4                52.0       1627.0           280.0       565.0       259.0   \n",
       "\n",
       "   median_income  median_house_value  \n",
       "0         8.3252            452600.0  \n",
       "1         8.3014            358500.0  \n",
       "2         7.2574            352100.0  \n",
       "3         5.6431            341300.0  \n",
       "4         3.8462            342200.0  "
      ]
     },
     "execution_count": 29,
     "metadata": {},
     "output_type": "execute_result"
    }
   ],
   "source": [
    "df.head()"
   ]
  },
  {
   "cell_type": "markdown",
   "id": "b3415880",
   "metadata": {},
   "source": [
    "Removing Skewness"
   ]
  },
  {
   "cell_type": "code",
   "execution_count": 30,
   "id": "fd4a6731",
   "metadata": {},
   "outputs": [],
   "source": [
    "num_cols = ['housing_median_age', 'total_rooms', 'total_bedrooms', 'population', 'households', 'median_income', 'median_house_value']"
   ]
  },
  {
   "cell_type": "code",
   "execution_count": 31,
   "id": "77e644e6",
   "metadata": {},
   "outputs": [
    {
     "data": {
      "text/plain": [
       "total_rooms           4.158816\n",
       "total_bedrooms        3.459546\n",
       "population            4.960017\n",
       "households            3.413850\n",
       "median_income         1.644557\n",
       "median_house_value    0.978290\n",
       "dtype: float64"
      ]
     },
     "execution_count": 31,
     "metadata": {},
     "output_type": "execute_result"
    }
   ],
   "source": [
    "df[num_cols].skew()[abs(df[num_cols].skew().values) > 0.75]"
   ]
  },
  {
   "cell_type": "code",
   "execution_count": 32,
   "id": "6af99da0",
   "metadata": {},
   "outputs": [],
   "source": [
    "skewed_cols = df[num_cols].skew()[abs(df[num_cols].skew().values) > 0.75].index.to_list()"
   ]
  },
  {
   "cell_type": "code",
   "execution_count": 33,
   "id": "0bea4e87",
   "metadata": {},
   "outputs": [
    {
     "data": {
      "text/plain": [
       "['total_rooms',\n",
       " 'total_bedrooms',\n",
       " 'population',\n",
       " 'households',\n",
       " 'median_income',\n",
       " 'median_house_value']"
      ]
     },
     "execution_count": 33,
     "metadata": {},
     "output_type": "execute_result"
    }
   ],
   "source": [
    "skewed_cols"
   ]
  },
  {
   "cell_type": "code",
   "execution_count": 34,
   "id": "d7b3cf9e",
   "metadata": {},
   "outputs": [
    {
     "data": {
      "text/html": [
       "<div>\n",
       "<style scoped>\n",
       "    .dataframe tbody tr th:only-of-type {\n",
       "        vertical-align: middle;\n",
       "    }\n",
       "\n",
       "    .dataframe tbody tr th {\n",
       "        vertical-align: top;\n",
       "    }\n",
       "\n",
       "    .dataframe thead th {\n",
       "        text-align: right;\n",
       "    }\n",
       "</style>\n",
       "<table border=\"1\" class=\"dataframe\">\n",
       "  <thead>\n",
       "    <tr style=\"text-align: right;\">\n",
       "      <th></th>\n",
       "      <th>total_rooms</th>\n",
       "      <th>total_bedrooms</th>\n",
       "      <th>population</th>\n",
       "      <th>households</th>\n",
       "      <th>median_income</th>\n",
       "      <th>median_house_value</th>\n",
       "    </tr>\n",
       "  </thead>\n",
       "  <tbody>\n",
       "    <tr>\n",
       "      <th>count</th>\n",
       "      <td>20433.000000</td>\n",
       "      <td>20433.000000</td>\n",
       "      <td>20433.000000</td>\n",
       "      <td>20433.000000</td>\n",
       "      <td>20433.000000</td>\n",
       "      <td>20433.000000</td>\n",
       "    </tr>\n",
       "    <tr>\n",
       "      <th>mean</th>\n",
       "      <td>2636.504233</td>\n",
       "      <td>537.870553</td>\n",
       "      <td>1424.946949</td>\n",
       "      <td>499.433465</td>\n",
       "      <td>3.871162</td>\n",
       "      <td>206864.413155</td>\n",
       "    </tr>\n",
       "    <tr>\n",
       "      <th>std</th>\n",
       "      <td>2185.269567</td>\n",
       "      <td>421.385070</td>\n",
       "      <td>1133.208490</td>\n",
       "      <td>382.299226</td>\n",
       "      <td>1.899291</td>\n",
       "      <td>115435.667099</td>\n",
       "    </tr>\n",
       "    <tr>\n",
       "      <th>min</th>\n",
       "      <td>2.000000</td>\n",
       "      <td>1.000000</td>\n",
       "      <td>3.000000</td>\n",
       "      <td>1.000000</td>\n",
       "      <td>0.499900</td>\n",
       "      <td>14999.000000</td>\n",
       "    </tr>\n",
       "    <tr>\n",
       "      <th>25%</th>\n",
       "      <td>1450.000000</td>\n",
       "      <td>296.000000</td>\n",
       "      <td>787.000000</td>\n",
       "      <td>280.000000</td>\n",
       "      <td>2.563700</td>\n",
       "      <td>119500.000000</td>\n",
       "    </tr>\n",
       "    <tr>\n",
       "      <th>50%</th>\n",
       "      <td>2127.000000</td>\n",
       "      <td>435.000000</td>\n",
       "      <td>1166.000000</td>\n",
       "      <td>409.000000</td>\n",
       "      <td>3.536500</td>\n",
       "      <td>179700.000000</td>\n",
       "    </tr>\n",
       "    <tr>\n",
       "      <th>75%</th>\n",
       "      <td>3143.000000</td>\n",
       "      <td>647.000000</td>\n",
       "      <td>1722.000000</td>\n",
       "      <td>604.000000</td>\n",
       "      <td>4.744000</td>\n",
       "      <td>264700.000000</td>\n",
       "    </tr>\n",
       "    <tr>\n",
       "      <th>max</th>\n",
       "      <td>39320.000000</td>\n",
       "      <td>6445.000000</td>\n",
       "      <td>35682.000000</td>\n",
       "      <td>6082.000000</td>\n",
       "      <td>15.000100</td>\n",
       "      <td>500001.000000</td>\n",
       "    </tr>\n",
       "  </tbody>\n",
       "</table>\n",
       "</div>"
      ],
      "text/plain": [
       "        total_rooms  total_bedrooms    population    households  \\\n",
       "count  20433.000000    20433.000000  20433.000000  20433.000000   \n",
       "mean    2636.504233      537.870553   1424.946949    499.433465   \n",
       "std     2185.269567      421.385070   1133.208490    382.299226   \n",
       "min        2.000000        1.000000      3.000000      1.000000   \n",
       "25%     1450.000000      296.000000    787.000000    280.000000   \n",
       "50%     2127.000000      435.000000   1166.000000    409.000000   \n",
       "75%     3143.000000      647.000000   1722.000000    604.000000   \n",
       "max    39320.000000     6445.000000  35682.000000   6082.000000   \n",
       "\n",
       "       median_income  median_house_value  \n",
       "count   20433.000000        20433.000000  \n",
       "mean        3.871162       206864.413155  \n",
       "std         1.899291       115435.667099  \n",
       "min         0.499900        14999.000000  \n",
       "25%         2.563700       119500.000000  \n",
       "50%         3.536500       179700.000000  \n",
       "75%         4.744000       264700.000000  \n",
       "max        15.000100       500001.000000  "
      ]
     },
     "execution_count": 34,
     "metadata": {},
     "output_type": "execute_result"
    }
   ],
   "source": [
    "#Checking if any column has non positive values\n",
    "df[skewed_cols].describe()"
   ]
  },
  {
   "cell_type": "code",
   "execution_count": 35,
   "id": "f38b48d3",
   "metadata": {},
   "outputs": [],
   "source": [
    "from scipy.stats import boxcox"
   ]
  },
  {
   "cell_type": "code",
   "execution_count": 36,
   "id": "4122e469",
   "metadata": {},
   "outputs": [
    {
     "name": "stdout",
     "output_type": "stream",
     "text": [
      "0    0.124564\n",
      "dtype: float64\n",
      "0    0.112714\n",
      "dtype: float64\n",
      "0    0.114033\n",
      "dtype: float64\n",
      "0    0.116865\n",
      "dtype: float64\n",
      "0    0.004938\n",
      "dtype: float64\n",
      "0   -0.012096\n",
      "dtype: float64\n"
     ]
    }
   ],
   "source": [
    "for col in skewed_cols:\n",
    "    bc_result = boxcox(df[col])\n",
    "    print(pd.DataFrame(bc_result[0]).skew())"
   ]
  },
  {
   "cell_type": "markdown",
   "id": "8423d3c8",
   "metadata": {},
   "source": [
    "Boxcox is removing skewness from all the columns hence can be applied"
   ]
  },
  {
   "cell_type": "code",
   "execution_count": 37,
   "id": "d57a4480",
   "metadata": {},
   "outputs": [],
   "source": [
    "lambda_dict = {}"
   ]
  },
  {
   "cell_type": "code",
   "execution_count": 38,
   "id": "9c12bcfb",
   "metadata": {},
   "outputs": [],
   "source": [
    "for col in skewed_cols:\n",
    "    #applying transformation\n",
    "    bc_result = boxcox(df[col])\n",
    "    #removing original skewed column\n",
    "    df.drop(col, axis=1, inplace=True)\n",
    "    #adding transformed column to the dataframe\n",
    "    df[col] = bc_result[0]\n",
    "    #saving the lambda in dictionary\n",
    "    lambda_dict[col] = bc_result[1]\n",
    "    "
   ]
  },
  {
   "cell_type": "code",
   "execution_count": 39,
   "id": "60fc5cfb",
   "metadata": {},
   "outputs": [
    {
     "data": {
      "text/plain": [
       "{'total_rooms': 0.22085037222482323,\n",
       " 'total_bedrooms': 0.22469488584095776,\n",
       " 'population': 0.23589636454109378,\n",
       " 'households': 0.24538271216646682,\n",
       " 'median_income': 0.09188496766542596,\n",
       " 'median_house_value': 0.12427377943115578}"
      ]
     },
     "execution_count": 39,
     "metadata": {},
     "output_type": "execute_result"
    }
   ],
   "source": [
    "lambda_dict"
   ]
  },
  {
   "cell_type": "code",
   "execution_count": 40,
   "id": "340e6d0d",
   "metadata": {},
   "outputs": [
    {
     "data": {
      "text/plain": [
       "Series([], dtype: float64)"
      ]
     },
     "execution_count": 40,
     "metadata": {},
     "output_type": "execute_result"
    }
   ],
   "source": [
    "df[num_cols].skew()[abs(df[num_cols].skew().values) > 0.75]"
   ]
  },
  {
   "cell_type": "markdown",
   "id": "c1fa2a8a",
   "metadata": {},
   "source": [
    "There are no skewed columns in dataframe now"
   ]
  },
  {
   "cell_type": "code",
   "execution_count": 41,
   "id": "895d856c",
   "metadata": {},
   "outputs": [
    {
     "data": {
      "text/html": [
       "<div>\n",
       "<style scoped>\n",
       "    .dataframe tbody tr th:only-of-type {\n",
       "        vertical-align: middle;\n",
       "    }\n",
       "\n",
       "    .dataframe tbody tr th {\n",
       "        vertical-align: top;\n",
       "    }\n",
       "\n",
       "    .dataframe thead th {\n",
       "        text-align: right;\n",
       "    }\n",
       "</style>\n",
       "<table border=\"1\" class=\"dataframe\">\n",
       "  <thead>\n",
       "    <tr style=\"text-align: right;\">\n",
       "      <th></th>\n",
       "      <th>inland</th>\n",
       "      <th>island</th>\n",
       "      <th>near bay</th>\n",
       "      <th>near ocean</th>\n",
       "      <th>longitude</th>\n",
       "      <th>latitude</th>\n",
       "      <th>housing_median_age</th>\n",
       "      <th>total_rooms</th>\n",
       "      <th>total_bedrooms</th>\n",
       "      <th>population</th>\n",
       "      <th>households</th>\n",
       "      <th>median_income</th>\n",
       "      <th>median_house_value</th>\n",
       "    </tr>\n",
       "  </thead>\n",
       "  <tbody>\n",
       "    <tr>\n",
       "      <th>0</th>\n",
       "      <td>0</td>\n",
       "      <td>0</td>\n",
       "      <td>1</td>\n",
       "      <td>0</td>\n",
       "      <td>-122.23</td>\n",
       "      <td>37.88</td>\n",
       "      <td>41.0</td>\n",
       "      <td>15.711183</td>\n",
       "      <td>8.812635</td>\n",
       "      <td>12.313702</td>\n",
       "      <td>9.276867</td>\n",
       "      <td>2.339704</td>\n",
       "      <td>32.548715</td>\n",
       "    </tr>\n",
       "    <tr>\n",
       "      <th>1</th>\n",
       "      <td>0</td>\n",
       "      <td>0</td>\n",
       "      <td>1</td>\n",
       "      <td>0</td>\n",
       "      <td>-122.22</td>\n",
       "      <td>37.86</td>\n",
       "      <td>21.0</td>\n",
       "      <td>27.567255</td>\n",
       "      <td>17.043806</td>\n",
       "      <td>22.349787</td>\n",
       "      <td>18.837657</td>\n",
       "      <td>2.336226</td>\n",
       "      <td>31.389704</td>\n",
       "    </tr>\n",
       "    <tr>\n",
       "      <th>2</th>\n",
       "      <td>0</td>\n",
       "      <td>0</td>\n",
       "      <td>1</td>\n",
       "      <td>0</td>\n",
       "      <td>-122.24</td>\n",
       "      <td>37.85</td>\n",
       "      <td>52.0</td>\n",
       "      <td>18.129399</td>\n",
       "      <td>10.018273</td>\n",
       "      <td>14.089610</td>\n",
       "      <td>10.438155</td>\n",
       "      <td>2.173976</td>\n",
       "      <td>31.301520</td>\n",
       "    </tr>\n",
       "    <tr>\n",
       "      <th>3</th>\n",
       "      <td>0</td>\n",
       "      <td>0</td>\n",
       "      <td>1</td>\n",
       "      <td>0</td>\n",
       "      <td>-122.25</td>\n",
       "      <td>37.85</td>\n",
       "      <td>52.0</td>\n",
       "      <td>17.434442</td>\n",
       "      <td>10.726091</td>\n",
       "      <td>14.606008</td>\n",
       "      <td>11.216602</td>\n",
       "      <td>1.875594</td>\n",
       "      <td>31.149476</td>\n",
       "    </tr>\n",
       "    <tr>\n",
       "      <th>4</th>\n",
       "      <td>0</td>\n",
       "      <td>0</td>\n",
       "      <td>1</td>\n",
       "      <td>0</td>\n",
       "      <td>-122.25</td>\n",
       "      <td>37.85</td>\n",
       "      <td>52.0</td>\n",
       "      <td>18.653359</td>\n",
       "      <td>11.335470</td>\n",
       "      <td>14.661511</td>\n",
       "      <td>11.859220</td>\n",
       "      <td>1.434004</td>\n",
       "      <td>31.162306</td>\n",
       "    </tr>\n",
       "  </tbody>\n",
       "</table>\n",
       "</div>"
      ],
      "text/plain": [
       "   inland  island  near bay  near ocean  longitude  latitude  \\\n",
       "0       0       0         1           0    -122.23     37.88   \n",
       "1       0       0         1           0    -122.22     37.86   \n",
       "2       0       0         1           0    -122.24     37.85   \n",
       "3       0       0         1           0    -122.25     37.85   \n",
       "4       0       0         1           0    -122.25     37.85   \n",
       "\n",
       "   housing_median_age  total_rooms  total_bedrooms  population  households  \\\n",
       "0                41.0    15.711183        8.812635   12.313702    9.276867   \n",
       "1                21.0    27.567255       17.043806   22.349787   18.837657   \n",
       "2                52.0    18.129399       10.018273   14.089610   10.438155   \n",
       "3                52.0    17.434442       10.726091   14.606008   11.216602   \n",
       "4                52.0    18.653359       11.335470   14.661511   11.859220   \n",
       "\n",
       "   median_income  median_house_value  \n",
       "0       2.339704           32.548715  \n",
       "1       2.336226           31.389704  \n",
       "2       2.173976           31.301520  \n",
       "3       1.875594           31.149476  \n",
       "4       1.434004           31.162306  "
      ]
     },
     "execution_count": 41,
     "metadata": {},
     "output_type": "execute_result"
    }
   ],
   "source": [
    "df.head()"
   ]
  },
  {
   "cell_type": "markdown",
   "id": "1f34de30",
   "metadata": {},
   "source": [
    "Test train split and scaling"
   ]
  },
  {
   "cell_type": "code",
   "execution_count": 42,
   "id": "f827d5a7",
   "metadata": {},
   "outputs": [],
   "source": [
    "from sklearn.model_selection import train_test_split"
   ]
  },
  {
   "cell_type": "code",
   "execution_count": 43,
   "id": "320308cb",
   "metadata": {},
   "outputs": [],
   "source": [
    "X = df.drop(['median_house_value'], axis=1)\n",
    "y = df['median_house_value']"
   ]
  },
  {
   "cell_type": "code",
   "execution_count": 45,
   "id": "a31d1ee6",
   "metadata": {},
   "outputs": [],
   "source": [
    "X_train, X_test, y_train, y_test = train_test_split(X, y, test_size=0.33, random_state=42)"
   ]
  },
  {
   "cell_type": "code",
   "execution_count": 46,
   "id": "16568177",
   "metadata": {},
   "outputs": [
    {
     "data": {
      "text/html": [
       "<div>\n",
       "<style scoped>\n",
       "    .dataframe tbody tr th:only-of-type {\n",
       "        vertical-align: middle;\n",
       "    }\n",
       "\n",
       "    .dataframe tbody tr th {\n",
       "        vertical-align: top;\n",
       "    }\n",
       "\n",
       "    .dataframe thead th {\n",
       "        text-align: right;\n",
       "    }\n",
       "</style>\n",
       "<table border=\"1\" class=\"dataframe\">\n",
       "  <thead>\n",
       "    <tr style=\"text-align: right;\">\n",
       "      <th></th>\n",
       "      <th>inland</th>\n",
       "      <th>island</th>\n",
       "      <th>near bay</th>\n",
       "      <th>near ocean</th>\n",
       "      <th>longitude</th>\n",
       "      <th>latitude</th>\n",
       "      <th>housing_median_age</th>\n",
       "      <th>total_rooms</th>\n",
       "      <th>total_bedrooms</th>\n",
       "      <th>population</th>\n",
       "      <th>households</th>\n",
       "      <th>median_income</th>\n",
       "    </tr>\n",
       "  </thead>\n",
       "  <tbody>\n",
       "    <tr>\n",
       "      <th>0</th>\n",
       "      <td>0</td>\n",
       "      <td>0</td>\n",
       "      <td>1</td>\n",
       "      <td>0</td>\n",
       "      <td>-122.23</td>\n",
       "      <td>37.88</td>\n",
       "      <td>41.0</td>\n",
       "      <td>15.711183</td>\n",
       "      <td>8.812635</td>\n",
       "      <td>12.313702</td>\n",
       "      <td>9.276867</td>\n",
       "      <td>2.339704</td>\n",
       "    </tr>\n",
       "    <tr>\n",
       "      <th>1</th>\n",
       "      <td>0</td>\n",
       "      <td>0</td>\n",
       "      <td>1</td>\n",
       "      <td>0</td>\n",
       "      <td>-122.22</td>\n",
       "      <td>37.86</td>\n",
       "      <td>21.0</td>\n",
       "      <td>27.567255</td>\n",
       "      <td>17.043806</td>\n",
       "      <td>22.349787</td>\n",
       "      <td>18.837657</td>\n",
       "      <td>2.336226</td>\n",
       "    </tr>\n",
       "    <tr>\n",
       "      <th>2</th>\n",
       "      <td>0</td>\n",
       "      <td>0</td>\n",
       "      <td>1</td>\n",
       "      <td>0</td>\n",
       "      <td>-122.24</td>\n",
       "      <td>37.85</td>\n",
       "      <td>52.0</td>\n",
       "      <td>18.129399</td>\n",
       "      <td>10.018273</td>\n",
       "      <td>14.089610</td>\n",
       "      <td>10.438155</td>\n",
       "      <td>2.173976</td>\n",
       "    </tr>\n",
       "    <tr>\n",
       "      <th>3</th>\n",
       "      <td>0</td>\n",
       "      <td>0</td>\n",
       "      <td>1</td>\n",
       "      <td>0</td>\n",
       "      <td>-122.25</td>\n",
       "      <td>37.85</td>\n",
       "      <td>52.0</td>\n",
       "      <td>17.434442</td>\n",
       "      <td>10.726091</td>\n",
       "      <td>14.606008</td>\n",
       "      <td>11.216602</td>\n",
       "      <td>1.875594</td>\n",
       "    </tr>\n",
       "    <tr>\n",
       "      <th>4</th>\n",
       "      <td>0</td>\n",
       "      <td>0</td>\n",
       "      <td>1</td>\n",
       "      <td>0</td>\n",
       "      <td>-122.25</td>\n",
       "      <td>37.85</td>\n",
       "      <td>52.0</td>\n",
       "      <td>18.653359</td>\n",
       "      <td>11.335470</td>\n",
       "      <td>14.661511</td>\n",
       "      <td>11.859220</td>\n",
       "      <td>1.434004</td>\n",
       "    </tr>\n",
       "  </tbody>\n",
       "</table>\n",
       "</div>"
      ],
      "text/plain": [
       "   inland  island  near bay  near ocean  longitude  latitude  \\\n",
       "0       0       0         1           0    -122.23     37.88   \n",
       "1       0       0         1           0    -122.22     37.86   \n",
       "2       0       0         1           0    -122.24     37.85   \n",
       "3       0       0         1           0    -122.25     37.85   \n",
       "4       0       0         1           0    -122.25     37.85   \n",
       "\n",
       "   housing_median_age  total_rooms  total_bedrooms  population  households  \\\n",
       "0                41.0    15.711183        8.812635   12.313702    9.276867   \n",
       "1                21.0    27.567255       17.043806   22.349787   18.837657   \n",
       "2                52.0    18.129399       10.018273   14.089610   10.438155   \n",
       "3                52.0    17.434442       10.726091   14.606008   11.216602   \n",
       "4                52.0    18.653359       11.335470   14.661511   11.859220   \n",
       "\n",
       "   median_income  \n",
       "0       2.339704  \n",
       "1       2.336226  \n",
       "2       2.173976  \n",
       "3       1.875594  \n",
       "4       1.434004  "
      ]
     },
     "execution_count": 46,
     "metadata": {},
     "output_type": "execute_result"
    }
   ],
   "source": [
    "X.head()"
   ]
  },
  {
   "cell_type": "code",
   "execution_count": 47,
   "id": "a2f22943",
   "metadata": {},
   "outputs": [],
   "source": [
    "from sklearn.preprocessing import StandardScaler"
   ]
  },
  {
   "cell_type": "code",
   "execution_count": 48,
   "id": "9c489988",
   "metadata": {},
   "outputs": [],
   "source": [
    "sc_x = StandardScaler()\n",
    "sc_y = StandardScaler()"
   ]
  },
  {
   "cell_type": "code",
   "execution_count": 49,
   "id": "85dae1ae",
   "metadata": {},
   "outputs": [
    {
     "data": {
      "text/plain": [
       "longitude               844\n",
       "latitude                861\n",
       "housing_median_age       52\n",
       "total_rooms            5911\n",
       "total_bedrooms         1923\n",
       "population             3879\n",
       "households             1809\n",
       "median_income         12825\n",
       "dtype: int64"
      ]
     },
     "execution_count": 49,
     "metadata": {},
     "output_type": "execute_result"
    }
   ],
   "source": [
    "X.select_dtypes(np.number).nunique()[X.select_dtypes(np.number).nunique().values > 2]"
   ]
  },
  {
   "cell_type": "code",
   "execution_count": 50,
   "id": "951c4c02",
   "metadata": {},
   "outputs": [],
   "source": [
    "scale_cols =X.select_dtypes(np.number).nunique()[X.select_dtypes(np.number).nunique().values > 2].index.to_list()"
   ]
  },
  {
   "cell_type": "code",
   "execution_count": 51,
   "id": "6a52a318",
   "metadata": {},
   "outputs": [
    {
     "name": "stderr",
     "output_type": "stream",
     "text": [
      "C:\\Users\\SAKSHI\\anaconda3\\lib\\site-packages\\pandas\\core\\frame.py:3678: SettingWithCopyWarning: \n",
      "A value is trying to be set on a copy of a slice from a DataFrame.\n",
      "Try using .loc[row_indexer,col_indexer] = value instead\n",
      "\n",
      "See the caveats in the documentation: https://pandas.pydata.org/pandas-docs/stable/user_guide/indexing.html#returning-a-view-versus-a-copy\n",
      "  self[col] = igetitem(value, i)\n"
     ]
    }
   ],
   "source": [
    "X_train[scale_cols] = sc_x.fit_transform(X_train[scale_cols])\n",
    "y_train = sc_y.fit_transform(np.array(y_train).reshape(-1,1))"
   ]
  },
  {
   "cell_type": "code",
   "execution_count": 52,
   "id": "63c02348",
   "metadata": {},
   "outputs": [
    {
     "data": {
      "text/html": [
       "<div>\n",
       "<style scoped>\n",
       "    .dataframe tbody tr th:only-of-type {\n",
       "        vertical-align: middle;\n",
       "    }\n",
       "\n",
       "    .dataframe tbody tr th {\n",
       "        vertical-align: top;\n",
       "    }\n",
       "\n",
       "    .dataframe thead th {\n",
       "        text-align: right;\n",
       "    }\n",
       "</style>\n",
       "<table border=\"1\" class=\"dataframe\">\n",
       "  <thead>\n",
       "    <tr style=\"text-align: right;\">\n",
       "      <th></th>\n",
       "      <th>inland</th>\n",
       "      <th>island</th>\n",
       "      <th>near bay</th>\n",
       "      <th>near ocean</th>\n",
       "      <th>longitude</th>\n",
       "      <th>latitude</th>\n",
       "      <th>housing_median_age</th>\n",
       "      <th>total_rooms</th>\n",
       "      <th>total_bedrooms</th>\n",
       "      <th>population</th>\n",
       "      <th>households</th>\n",
       "      <th>median_income</th>\n",
       "    </tr>\n",
       "  </thead>\n",
       "  <tbody>\n",
       "    <tr>\n",
       "      <th>5595</th>\n",
       "      <td>0</td>\n",
       "      <td>0</td>\n",
       "      <td>0</td>\n",
       "      <td>1</td>\n",
       "      <td>0.645764</td>\n",
       "      <td>-0.896932</td>\n",
       "      <td>-0.601993</td>\n",
       "      <td>0.192170</td>\n",
       "      <td>0.700453</td>\n",
       "      <td>0.530985</td>\n",
       "      <td>0.724340</td>\n",
       "      <td>-1.037626</td>\n",
       "    </tr>\n",
       "    <tr>\n",
       "      <th>12195</th>\n",
       "      <td>1</td>\n",
       "      <td>0</td>\n",
       "      <td>0</td>\n",
       "      <td>0</td>\n",
       "      <td>1.504492</td>\n",
       "      <td>-0.939081</td>\n",
       "      <td>-1.474892</td>\n",
       "      <td>-1.792804</td>\n",
       "      <td>-2.039565</td>\n",
       "      <td>-2.174530</td>\n",
       "      <td>-2.056571</td>\n",
       "      <td>1.268040</td>\n",
       "    </tr>\n",
       "    <tr>\n",
       "      <th>2324</th>\n",
       "      <td>1</td>\n",
       "      <td>0</td>\n",
       "      <td>0</td>\n",
       "      <td>0</td>\n",
       "      <td>-0.043216</td>\n",
       "      <td>0.545508</td>\n",
       "      <td>-1.951019</td>\n",
       "      <td>-0.724615</td>\n",
       "      <td>-0.973196</td>\n",
       "      <td>-0.865629</td>\n",
       "      <td>-0.992977</td>\n",
       "      <td>0.738616</td>\n",
       "    </tr>\n",
       "    <tr>\n",
       "      <th>12314</th>\n",
       "      <td>1</td>\n",
       "      <td>0</td>\n",
       "      <td>0</td>\n",
       "      <td>0</td>\n",
       "      <td>1.784078</td>\n",
       "      <td>-0.999963</td>\n",
       "      <td>-0.363929</td>\n",
       "      <td>0.459427</td>\n",
       "      <td>1.194246</td>\n",
       "      <td>2.032226</td>\n",
       "      <td>1.228434</td>\n",
       "      <td>-1.460304</td>\n",
       "    </tr>\n",
       "    <tr>\n",
       "      <th>13381</th>\n",
       "      <td>1</td>\n",
       "      <td>0</td>\n",
       "      <td>0</td>\n",
       "      <td>0</td>\n",
       "      <td>1.125054</td>\n",
       "      <td>-0.709602</td>\n",
       "      <td>0.112198</td>\n",
       "      <td>0.098410</td>\n",
       "      <td>-0.298623</td>\n",
       "      <td>0.026534</td>\n",
       "      <td>-0.421580</td>\n",
       "      <td>-0.938114</td>\n",
       "    </tr>\n",
       "    <tr>\n",
       "      <th>...</th>\n",
       "      <td>...</td>\n",
       "      <td>...</td>\n",
       "      <td>...</td>\n",
       "      <td>...</td>\n",
       "      <td>...</td>\n",
       "      <td>...</td>\n",
       "      <td>...</td>\n",
       "      <td>...</td>\n",
       "      <td>...</td>\n",
       "      <td>...</td>\n",
       "      <td>...</td>\n",
       "      <td>...</td>\n",
       "    </tr>\n",
       "    <tr>\n",
       "      <th>11284</th>\n",
       "      <td>0</td>\n",
       "      <td>0</td>\n",
       "      <td>0</td>\n",
       "      <td>0</td>\n",
       "      <td>0.805527</td>\n",
       "      <td>-0.901615</td>\n",
       "      <td>-0.363929</td>\n",
       "      <td>0.462461</td>\n",
       "      <td>0.158451</td>\n",
       "      <td>0.274627</td>\n",
       "      <td>0.110770</td>\n",
       "      <td>0.945778</td>\n",
       "    </tr>\n",
       "    <tr>\n",
       "      <th>11964</th>\n",
       "      <td>0</td>\n",
       "      <td>0</td>\n",
       "      <td>0</td>\n",
       "      <td>0</td>\n",
       "      <td>1.020209</td>\n",
       "      <td>-0.882882</td>\n",
       "      <td>-1.871664</td>\n",
       "      <td>1.553763</td>\n",
       "      <td>1.327766</td>\n",
       "      <td>1.629579</td>\n",
       "      <td>1.407684</td>\n",
       "      <td>0.672365</td>\n",
       "    </tr>\n",
       "    <tr>\n",
       "      <th>5390</th>\n",
       "      <td>0</td>\n",
       "      <td>0</td>\n",
       "      <td>0</td>\n",
       "      <td>0</td>\n",
       "      <td>0.580860</td>\n",
       "      <td>-0.765801</td>\n",
       "      <td>1.064451</td>\n",
       "      <td>-0.425320</td>\n",
       "      <td>-0.276011</td>\n",
       "      <td>-0.314192</td>\n",
       "      <td>-0.212537</td>\n",
       "      <td>-0.267895</td>\n",
       "    </tr>\n",
       "    <tr>\n",
       "      <th>860</th>\n",
       "      <td>0</td>\n",
       "      <td>0</td>\n",
       "      <td>1</td>\n",
       "      <td>0</td>\n",
       "      <td>-1.226463</td>\n",
       "      <td>0.901435</td>\n",
       "      <td>-1.316183</td>\n",
       "      <td>1.515377</td>\n",
       "      <td>1.376058</td>\n",
       "      <td>1.727016</td>\n",
       "      <td>1.506326</td>\n",
       "      <td>0.887520</td>\n",
       "    </tr>\n",
       "    <tr>\n",
       "      <th>15795</th>\n",
       "      <td>0</td>\n",
       "      <td>0</td>\n",
       "      <td>1</td>\n",
       "      <td>0</td>\n",
       "      <td>-1.421175</td>\n",
       "      <td>0.976367</td>\n",
       "      <td>1.857996</td>\n",
       "      <td>0.749155</td>\n",
       "      <td>0.760382</td>\n",
       "      <td>0.999112</td>\n",
       "      <td>0.662742</td>\n",
       "      <td>0.218621</td>\n",
       "    </tr>\n",
       "  </tbody>\n",
       "</table>\n",
       "<p>13690 rows × 12 columns</p>\n",
       "</div>"
      ],
      "text/plain": [
       "       inland  island  near bay  near ocean  longitude  latitude  \\\n",
       "5595        0       0         0           1   0.645764 -0.896932   \n",
       "12195       1       0         0           0   1.504492 -0.939081   \n",
       "2324        1       0         0           0  -0.043216  0.545508   \n",
       "12314       1       0         0           0   1.784078 -0.999963   \n",
       "13381       1       0         0           0   1.125054 -0.709602   \n",
       "...       ...     ...       ...         ...        ...       ...   \n",
       "11284       0       0         0           0   0.805527 -0.901615   \n",
       "11964       0       0         0           0   1.020209 -0.882882   \n",
       "5390        0       0         0           0   0.580860 -0.765801   \n",
       "860         0       0         1           0  -1.226463  0.901435   \n",
       "15795       0       0         1           0  -1.421175  0.976367   \n",
       "\n",
       "       housing_median_age  total_rooms  total_bedrooms  population  \\\n",
       "5595            -0.601993     0.192170        0.700453    0.530985   \n",
       "12195           -1.474892    -1.792804       -2.039565   -2.174530   \n",
       "2324            -1.951019    -0.724615       -0.973196   -0.865629   \n",
       "12314           -0.363929     0.459427        1.194246    2.032226   \n",
       "13381            0.112198     0.098410       -0.298623    0.026534   \n",
       "...                   ...          ...             ...         ...   \n",
       "11284           -0.363929     0.462461        0.158451    0.274627   \n",
       "11964           -1.871664     1.553763        1.327766    1.629579   \n",
       "5390             1.064451    -0.425320       -0.276011   -0.314192   \n",
       "860             -1.316183     1.515377        1.376058    1.727016   \n",
       "15795            1.857996     0.749155        0.760382    0.999112   \n",
       "\n",
       "       households  median_income  \n",
       "5595     0.724340      -1.037626  \n",
       "12195   -2.056571       1.268040  \n",
       "2324    -0.992977       0.738616  \n",
       "12314    1.228434      -1.460304  \n",
       "13381   -0.421580      -0.938114  \n",
       "...           ...            ...  \n",
       "11284    0.110770       0.945778  \n",
       "11964    1.407684       0.672365  \n",
       "5390    -0.212537      -0.267895  \n",
       "860      1.506326       0.887520  \n",
       "15795    0.662742       0.218621  \n",
       "\n",
       "[13690 rows x 12 columns]"
      ]
     },
     "execution_count": 52,
     "metadata": {},
     "output_type": "execute_result"
    }
   ],
   "source": [
    "X_train"
   ]
  },
  {
   "cell_type": "code",
   "execution_count": 53,
   "id": "785cc9cb",
   "metadata": {},
   "outputs": [
    {
     "data": {
      "text/plain": [
       "array([[ 0.52213793],\n",
       "       [ 1.18780195],\n",
       "       [-0.7927343 ],\n",
       "       ...,\n",
       "       [ 1.13100943],\n",
       "       [ 0.4363375 ],\n",
       "       [ 0.5928791 ]])"
      ]
     },
     "execution_count": 53,
     "metadata": {},
     "output_type": "execute_result"
    }
   ],
   "source": [
    "y_train"
   ]
  },
  {
   "cell_type": "code",
   "execution_count": 54,
   "id": "18c8109f",
   "metadata": {},
   "outputs": [
    {
     "name": "stderr",
     "output_type": "stream",
     "text": [
      "C:\\Users\\SAKSHI\\anaconda3\\lib\\site-packages\\pandas\\core\\frame.py:3678: SettingWithCopyWarning: \n",
      "A value is trying to be set on a copy of a slice from a DataFrame.\n",
      "Try using .loc[row_indexer,col_indexer] = value instead\n",
      "\n",
      "See the caveats in the documentation: https://pandas.pydata.org/pandas-docs/stable/user_guide/indexing.html#returning-a-view-versus-a-copy\n",
      "  self[col] = igetitem(value, i)\n"
     ]
    }
   ],
   "source": [
    "X_test[scale_cols] = sc_x.transform(X_test[scale_cols])\n",
    "y_test = sc_y.transform(np.array(y_test).reshape(-1,1))"
   ]
  },
  {
   "cell_type": "markdown",
   "id": "94cc013c",
   "metadata": {},
   "source": [
    "Regression Models"
   ]
  },
  {
   "cell_type": "markdown",
   "id": "9bce9200",
   "metadata": {},
   "source": [
    "Linear Regression Model"
   ]
  },
  {
   "cell_type": "code",
   "execution_count": 55,
   "id": "98be022d",
   "metadata": {},
   "outputs": [
    {
     "name": "stderr",
     "output_type": "stream",
     "text": [
      "C:\\Users\\SAKSHI\\anaconda3\\lib\\site-packages\\pandas\\core\\frame.py:3678: SettingWithCopyWarning: \n",
      "A value is trying to be set on a copy of a slice from a DataFrame.\n",
      "Try using .loc[row_indexer,col_indexer] = value instead\n",
      "\n",
      "See the caveats in the documentation: https://pandas.pydata.org/pandas-docs/stable/user_guide/indexing.html#returning-a-view-versus-a-copy\n",
      "  self[col] = igetitem(value, i)\n",
      "C:\\Users\\SAKSHI\\anaconda3\\lib\\site-packages\\pandas\\core\\frame.py:3678: SettingWithCopyWarning: \n",
      "A value is trying to be set on a copy of a slice from a DataFrame.\n",
      "Try using .loc[row_indexer,col_indexer] = value instead\n",
      "\n",
      "See the caveats in the documentation: https://pandas.pydata.org/pandas-docs/stable/user_guide/indexing.html#returning-a-view-versus-a-copy\n",
      "  self[col] = igetitem(value, i)\n"
     ]
    }
   ],
   "source": [
    "from sklearn.model_selection import train_test_split\n",
    "\n",
    "X_train, X_test, y_train, y_test = train_test_split(X, y, test_size=0.33, random_state=42)\n",
    "\n",
    "from sklearn.preprocessing import StandardScaler\n",
    "\n",
    "sc_x = StandardScaler()\n",
    "sc_y = StandardScaler()\n",
    "\n",
    "X.select_dtypes(np.number).nunique()[X.select_dtypes(np.number).nunique().values > 2]\n",
    "\n",
    "scale_cols =X.select_dtypes(np.number).nunique()[X.select_dtypes(np.number).nunique().values > 2].index.to_list()\n",
    "\n",
    "X_train[scale_cols] = sc_x.fit_transform(X_train[scale_cols])\n",
    "y_train = sc_y.fit_transform(np.array(y_train).reshape(-1,1))\n",
    "\n",
    "X_test[scale_cols] = sc_x.transform(X_test[scale_cols])\n",
    "y_test = sc_y.transform(np.array(y_test).reshape(-1,1))"
   ]
  },
  {
   "cell_type": "code",
   "execution_count": 56,
   "id": "f5180158",
   "metadata": {},
   "outputs": [],
   "source": [
    "from sklearn.linear_model import LinearRegression"
   ]
  },
  {
   "cell_type": "code",
   "execution_count": 57,
   "id": "951dc626",
   "metadata": {},
   "outputs": [],
   "source": [
    "regressor = LinearRegression()"
   ]
  },
  {
   "cell_type": "code",
   "execution_count": 58,
   "id": "bff7c861",
   "metadata": {},
   "outputs": [],
   "source": [
    "model_lr = regressor.fit(X_train, y_train)"
   ]
  },
  {
   "cell_type": "code",
   "execution_count": 59,
   "id": "08ddf9e8",
   "metadata": {},
   "outputs": [],
   "source": [
    "y_pred = model_lr.predict(X_train)"
   ]
  },
  {
   "cell_type": "code",
   "execution_count": 60,
   "id": "777ce658",
   "metadata": {},
   "outputs": [],
   "source": [
    "from sklearn.metrics import r2_score, mean_squared_error"
   ]
  },
  {
   "cell_type": "code",
   "execution_count": 61,
   "id": "00b2c0be",
   "metadata": {},
   "outputs": [
    {
     "data": {
      "text/plain": [
       "0.6897454858247922"
      ]
     },
     "execution_count": 61,
     "metadata": {},
     "output_type": "execute_result"
    }
   ],
   "source": [
    "r2_score(y_train, y_pred)"
   ]
  },
  {
   "cell_type": "code",
   "execution_count": 62,
   "id": "ae194bf4",
   "metadata": {},
   "outputs": [
    {
     "data": {
      "text/plain": [
       "0.5570049498659844"
      ]
     },
     "execution_count": 62,
     "metadata": {},
     "output_type": "execute_result"
    }
   ],
   "source": [
    "np.sqrt(mean_squared_error(y_train, y_pred))"
   ]
  },
  {
   "cell_type": "code",
   "execution_count": 63,
   "id": "f72027d3",
   "metadata": {},
   "outputs": [],
   "source": [
    "y_pred_lr_test = model_lr.predict(X_test)"
   ]
  },
  {
   "cell_type": "code",
   "execution_count": 64,
   "id": "7bd6eee4",
   "metadata": {},
   "outputs": [],
   "source": [
    "r2_score_lr = r2_score(y_test, y_pred_lr_test)"
   ]
  },
  {
   "cell_type": "code",
   "execution_count": 65,
   "id": "718e4884",
   "metadata": {},
   "outputs": [],
   "source": [
    "rmse_lr = np.sqrt(mean_squared_error(y_test, y_pred_lr_test))"
   ]
  },
  {
   "cell_type": "code",
   "execution_count": 66,
   "id": "a0924f38",
   "metadata": {},
   "outputs": [
    {
     "data": {
      "text/plain": [
       "0.6991073958528304"
      ]
     },
     "execution_count": 66,
     "metadata": {},
     "output_type": "execute_result"
    }
   ],
   "source": [
    "r2_score_lr"
   ]
  },
  {
   "cell_type": "code",
   "execution_count": 67,
   "id": "a78ffdcc",
   "metadata": {},
   "outputs": [
    {
     "data": {
      "text/plain": [
       "0.5511431833325939"
      ]
     },
     "execution_count": 67,
     "metadata": {},
     "output_type": "execute_result"
    }
   ],
   "source": [
    "rmse_lr"
   ]
  },
  {
   "cell_type": "code",
   "execution_count": 70,
   "id": "9d9d2a77",
   "metadata": {},
   "outputs": [],
   "source": [
    "sns.set_style('darkgrid')"
   ]
  },
  {
   "cell_type": "code",
   "execution_count": 69,
   "id": "5a3abb2d",
   "metadata": {},
   "outputs": [],
   "source": [
    "def plot_dist_residual(x):\n",
    "    plt.figure(figsize=(7,5))\n",
    "    sns.histplot(data=x, legend=False, bins=50)\n",
    "    plt.title(f'Distribution of residual')\n",
    "    plt.text(5, 500, f\"Skewness : {round(x[0].skew(),2)}\", horizontalalignment='left', size='large', color='black')"
   ]
  },
  {
   "cell_type": "code",
   "execution_count": 71,
   "id": "c04f70ea",
   "metadata": {},
   "outputs": [],
   "source": [
    "def plot_residual_plot(x):\n",
    "    sns.scatterplot(data=x, legend=False)\n",
    "    plt.title('Residual plot')\n",
    "    plt.text(8000, 0, 'No trend in plot', size='large')"
   ]
  },
  {
   "cell_type": "code",
   "execution_count": 72,
   "id": "0c41e18e",
   "metadata": {},
   "outputs": [],
   "source": [
    "res_lr = pd.DataFrame(y_test-y_pred_lr_test)"
   ]
  },
  {
   "cell_type": "code",
   "execution_count": 73,
   "id": "3dd0142d",
   "metadata": {},
   "outputs": [
    {
     "data": {
      "image/png": "[encoded data removed]",
      "text/plain": [
       "<Figure size 504x360 with 1 Axes>"
      ]
     },
     "metadata": {},
     "output_type": "display_data"
    }
   ],
   "source": [
    "plot_dist_residual(res_lr)"
   ]
  },
  {
   "cell_type": "code",
   "execution_count": 81,
   "id": "2749f89b",
   "metadata": {},
   "outputs": [
    {
     "data": {
      "image/png": "[encoded data removed]",
      "text/plain": [
       "<Figure size 432x288 with 1 Axes>"
      ]
     },
     "metadata": {},
     "output_type": "display_data"
    }
   ],
   "source": [
    "plot_residual_plot(res_lr)"
   ]
  },
  {
   "cell_type": "markdown",
   "id": "5aff091b",
   "metadata": {},
   "source": [
    "KNN Model"
   ]
  },
  {
   "cell_type": "code",
   "execution_count": 74,
   "id": "57203dea",
   "metadata": {},
   "outputs": [],
   "source": [
    "from sklearn.neighbors import KNeighborsRegressor"
   ]
  },
  {
   "cell_type": "code",
   "execution_count": 75,
   "id": "f0623057",
   "metadata": {},
   "outputs": [],
   "source": [
    "scores_r2= []\n",
    "scores_rmse = []"
   ]
  },
  {
   "cell_type": "code",
   "execution_count": 76,
   "id": "dde20660",
   "metadata": {},
   "outputs": [],
   "source": [
    "for i in range(1,40):\n",
    "    model = KNeighborsRegressor(n_neighbors=i)\n",
    "    model.fit(X_train, y_train)\n",
    "    y_pred = model.predict(X_test)\n",
    "    score = r2_score(y_test, y_pred)\n",
    "    scores_r2.append(score)\n",
    "    score = np.sqrt(mean_squared_error(y_test, y_pred))\n",
    "    scores_rmse.append(score)\n",
    "    "
   ]
  },
  {
   "cell_type": "code",
   "execution_count": 77,
   "id": "7780dd5e",
   "metadata": {},
   "outputs": [
    {
     "data": {
      "text/plain": [
       "Text(0.5, 1.0, 'R-squared values')"
      ]
     },
     "execution_count": 77,
     "metadata": {},
     "output_type": "execute_result"
    },
    {
     "data": {
      "image/png": "[encoded data removed]",
      "text/plain": [
       "<Figure size 432x288 with 1 Axes>"
      ]
     },
     "metadata": {},
     "output_type": "display_data"
    }
   ],
   "source": [
    "plt.plot(scores_r2)\n",
    "plt.title('R-squared values')"
   ]
  },
  {
   "cell_type": "code",
   "execution_count": 78,
   "id": "b49f8b22",
   "metadata": {},
   "outputs": [
    {
     "data": {
      "text/plain": [
       "Text(0.5, 1.0, 'RMSE Values')"
      ]
     },
     "execution_count": 78,
     "metadata": {},
     "output_type": "execute_result"
    },
    {
     "data": {
      "image/png": "[encoded data removed]",
      "text/plain": [
       "<Figure size 432x288 with 1 Axes>"
      ]
     },
     "metadata": {},
     "output_type": "display_data"
    }
   ],
   "source": [
    "plt.plot(scores_rmse)\n",
    "plt.title('RMSE Values')"
   ]
  },
  {
   "cell_type": "code",
   "execution_count": 79,
   "id": "d9af7160",
   "metadata": {},
   "outputs": [],
   "source": [
    "scores_r2 = pd.DataFrame(scores_r2)"
   ]
  },
  {
   "cell_type": "code",
   "execution_count": 80,
   "id": "459c96d3",
   "metadata": {},
   "outputs": [],
   "source": [
    "scores_r2.columns = ['R2-score']"
   ]
  },
  {
   "cell_type": "code",
   "execution_count": 81,
   "id": "2fca32db",
   "metadata": {},
   "outputs": [],
   "source": [
    "scores_rmse = pd.DataFrame(scores_rmse)"
   ]
  },
  {
   "cell_type": "code",
   "execution_count": 82,
   "id": "3f1d1cdc",
   "metadata": {},
   "outputs": [],
   "source": [
    "scores_rmse.columns = ['RMSE']"
   ]
  },
  {
   "cell_type": "code",
   "execution_count": 83,
   "id": "91b4c9e2",
   "metadata": {},
   "outputs": [],
   "source": [
    "KNN_results = pd.concat([scores_r2, scores_rmse], axis=1)"
   ]
  },
  {
   "cell_type": "code",
   "execution_count": 84,
   "id": "d550034f",
   "metadata": {},
   "outputs": [
    {
     "data": {
      "text/html": [
       "<div>\n",
       "<style scoped>\n",
       "    .dataframe tbody tr th:only-of-type {\n",
       "        vertical-align: middle;\n",
       "    }\n",
       "\n",
       "    .dataframe tbody tr th {\n",
       "        vertical-align: top;\n",
       "    }\n",
       "\n",
       "    .dataframe thead th {\n",
       "        text-align: right;\n",
       "    }\n",
       "</style>\n",
       "<table border=\"1\" class=\"dataframe\">\n",
       "  <thead>\n",
       "    <tr style=\"text-align: right;\">\n",
       "      <th></th>\n",
       "      <th>R2-score</th>\n",
       "      <th>RMSE</th>\n",
       "    </tr>\n",
       "  </thead>\n",
       "  <tbody>\n",
       "    <tr>\n",
       "      <th>0</th>\n",
       "      <td>0.627210</td>\n",
       "      <td>0.613467</td>\n",
       "    </tr>\n",
       "    <tr>\n",
       "      <th>1</th>\n",
       "      <td>0.707694</td>\n",
       "      <td>0.543223</td>\n",
       "    </tr>\n",
       "    <tr>\n",
       "      <th>2</th>\n",
       "      <td>0.735320</td>\n",
       "      <td>0.516916</td>\n",
       "    </tr>\n",
       "    <tr>\n",
       "      <th>3</th>\n",
       "      <td>0.745685</td>\n",
       "      <td>0.506693</td>\n",
       "    </tr>\n",
       "    <tr>\n",
       "      <th>4</th>\n",
       "      <td>0.753034</td>\n",
       "      <td>0.499318</td>\n",
       "    </tr>\n",
       "    <tr>\n",
       "      <th>5</th>\n",
       "      <td>0.759764</td>\n",
       "      <td>0.492467</td>\n",
       "    </tr>\n",
       "    <tr>\n",
       "      <th>6</th>\n",
       "      <td>0.763987</td>\n",
       "      <td>0.488120</td>\n",
       "    </tr>\n",
       "    <tr>\n",
       "      <th>7</th>\n",
       "      <td>0.763247</td>\n",
       "      <td>0.488885</td>\n",
       "    </tr>\n",
       "    <tr>\n",
       "      <th>8</th>\n",
       "      <td>0.764352</td>\n",
       "      <td>0.487742</td>\n",
       "    </tr>\n",
       "    <tr>\n",
       "      <th>9</th>\n",
       "      <td>0.763765</td>\n",
       "      <td>0.488350</td>\n",
       "    </tr>\n",
       "    <tr>\n",
       "      <th>10</th>\n",
       "      <td>0.764989</td>\n",
       "      <td>0.487083</td>\n",
       "    </tr>\n",
       "    <tr>\n",
       "      <th>11</th>\n",
       "      <td>0.765399</td>\n",
       "      <td>0.486658</td>\n",
       "    </tr>\n",
       "    <tr>\n",
       "      <th>12</th>\n",
       "      <td>0.765135</td>\n",
       "      <td>0.486932</td>\n",
       "    </tr>\n",
       "    <tr>\n",
       "      <th>13</th>\n",
       "      <td>0.764833</td>\n",
       "      <td>0.487245</td>\n",
       "    </tr>\n",
       "    <tr>\n",
       "      <th>14</th>\n",
       "      <td>0.764378</td>\n",
       "      <td>0.487715</td>\n",
       "    </tr>\n",
       "    <tr>\n",
       "      <th>15</th>\n",
       "      <td>0.763888</td>\n",
       "      <td>0.488223</td>\n",
       "    </tr>\n",
       "    <tr>\n",
       "      <th>16</th>\n",
       "      <td>0.762779</td>\n",
       "      <td>0.489367</td>\n",
       "    </tr>\n",
       "    <tr>\n",
       "      <th>17</th>\n",
       "      <td>0.761757</td>\n",
       "      <td>0.490421</td>\n",
       "    </tr>\n",
       "    <tr>\n",
       "      <th>18</th>\n",
       "      <td>0.761205</td>\n",
       "      <td>0.490989</td>\n",
       "    </tr>\n",
       "    <tr>\n",
       "      <th>19</th>\n",
       "      <td>0.759908</td>\n",
       "      <td>0.492320</td>\n",
       "    </tr>\n",
       "    <tr>\n",
       "      <th>20</th>\n",
       "      <td>0.759088</td>\n",
       "      <td>0.493160</td>\n",
       "    </tr>\n",
       "    <tr>\n",
       "      <th>21</th>\n",
       "      <td>0.759265</td>\n",
       "      <td>0.492979</td>\n",
       "    </tr>\n",
       "    <tr>\n",
       "      <th>22</th>\n",
       "      <td>0.758408</td>\n",
       "      <td>0.493855</td>\n",
       "    </tr>\n",
       "    <tr>\n",
       "      <th>23</th>\n",
       "      <td>0.757844</td>\n",
       "      <td>0.494431</td>\n",
       "    </tr>\n",
       "    <tr>\n",
       "      <th>24</th>\n",
       "      <td>0.757429</td>\n",
       "      <td>0.494855</td>\n",
       "    </tr>\n",
       "    <tr>\n",
       "      <th>25</th>\n",
       "      <td>0.756588</td>\n",
       "      <td>0.495712</td>\n",
       "    </tr>\n",
       "    <tr>\n",
       "      <th>26</th>\n",
       "      <td>0.755867</td>\n",
       "      <td>0.496446</td>\n",
       "    </tr>\n",
       "    <tr>\n",
       "      <th>27</th>\n",
       "      <td>0.755457</td>\n",
       "      <td>0.496862</td>\n",
       "    </tr>\n",
       "    <tr>\n",
       "      <th>28</th>\n",
       "      <td>0.754771</td>\n",
       "      <td>0.497559</td>\n",
       "    </tr>\n",
       "    <tr>\n",
       "      <th>29</th>\n",
       "      <td>0.754081</td>\n",
       "      <td>0.498258</td>\n",
       "    </tr>\n",
       "    <tr>\n",
       "      <th>30</th>\n",
       "      <td>0.753276</td>\n",
       "      <td>0.499074</td>\n",
       "    </tr>\n",
       "    <tr>\n",
       "      <th>31</th>\n",
       "      <td>0.752769</td>\n",
       "      <td>0.499586</td>\n",
       "    </tr>\n",
       "    <tr>\n",
       "      <th>32</th>\n",
       "      <td>0.752140</td>\n",
       "      <td>0.500221</td>\n",
       "    </tr>\n",
       "    <tr>\n",
       "      <th>33</th>\n",
       "      <td>0.751911</td>\n",
       "      <td>0.500452</td>\n",
       "    </tr>\n",
       "    <tr>\n",
       "      <th>34</th>\n",
       "      <td>0.751072</td>\n",
       "      <td>0.501297</td>\n",
       "    </tr>\n",
       "    <tr>\n",
       "      <th>35</th>\n",
       "      <td>0.750631</td>\n",
       "      <td>0.501741</td>\n",
       "    </tr>\n",
       "    <tr>\n",
       "      <th>36</th>\n",
       "      <td>0.749242</td>\n",
       "      <td>0.503137</td>\n",
       "    </tr>\n",
       "    <tr>\n",
       "      <th>37</th>\n",
       "      <td>0.748449</td>\n",
       "      <td>0.503932</td>\n",
       "    </tr>\n",
       "    <tr>\n",
       "      <th>38</th>\n",
       "      <td>0.747950</td>\n",
       "      <td>0.504432</td>\n",
       "    </tr>\n",
       "  </tbody>\n",
       "</table>\n",
       "</div>"
      ],
      "text/plain": [
       "    R2-score      RMSE\n",
       "0   0.627210  0.613467\n",
       "1   0.707694  0.543223\n",
       "2   0.735320  0.516916\n",
       "3   0.745685  0.506693\n",
       "4   0.753034  0.499318\n",
       "5   0.759764  0.492467\n",
       "6   0.763987  0.488120\n",
       "7   0.763247  0.488885\n",
       "8   0.764352  0.487742\n",
       "9   0.763765  0.488350\n",
       "10  0.764989  0.487083\n",
       "11  0.765399  0.486658\n",
       "12  0.765135  0.486932\n",
       "13  0.764833  0.487245\n",
       "14  0.764378  0.487715\n",
       "15  0.763888  0.488223\n",
       "16  0.762779  0.489367\n",
       "17  0.761757  0.490421\n",
       "18  0.761205  0.490989\n",
       "19  0.759908  0.492320\n",
       "20  0.759088  0.493160\n",
       "21  0.759265  0.492979\n",
       "22  0.758408  0.493855\n",
       "23  0.757844  0.494431\n",
       "24  0.757429  0.494855\n",
       "25  0.756588  0.495712\n",
       "26  0.755867  0.496446\n",
       "27  0.755457  0.496862\n",
       "28  0.754771  0.497559\n",
       "29  0.754081  0.498258\n",
       "30  0.753276  0.499074\n",
       "31  0.752769  0.499586\n",
       "32  0.752140  0.500221\n",
       "33  0.751911  0.500452\n",
       "34  0.751072  0.501297\n",
       "35  0.750631  0.501741\n",
       "36  0.749242  0.503137\n",
       "37  0.748449  0.503932\n",
       "38  0.747950  0.504432"
      ]
     },
     "execution_count": 84,
     "metadata": {},
     "output_type": "execute_result"
    }
   ],
   "source": [
    "KNN_results"
   ]
  },
  {
   "cell_type": "markdown",
   "id": "a4e7f1bb",
   "metadata": {},
   "source": [
    "at k=11, we are getting best results"
   ]
  },
  {
   "cell_type": "code",
   "execution_count": 85,
   "id": "ca0d26ef",
   "metadata": {},
   "outputs": [],
   "source": [
    "KNN_model = KNeighborsRegressor(11)"
   ]
  },
  {
   "cell_type": "code",
   "execution_count": 86,
   "id": "f3f022bb",
   "metadata": {},
   "outputs": [
    {
     "data": {
      "text/plain": [
       "KNeighborsRegressor(n_neighbors=11)"
      ]
     },
     "execution_count": 86,
     "metadata": {},
     "output_type": "execute_result"
    }
   ],
   "source": [
    "KNN_model.fit(X_train, y_train)"
   ]
  },
  {
   "cell_type": "code",
   "execution_count": 87,
   "id": "1bcbe5c6",
   "metadata": {},
   "outputs": [],
   "source": [
    "y_pred = KNN_model.predict(X_train)"
   ]
  },
  {
   "cell_type": "code",
   "execution_count": 88,
   "id": "62d2a1e5",
   "metadata": {},
   "outputs": [
    {
     "data": {
      "text/plain": [
       "0.7988803332844159"
      ]
     },
     "execution_count": 88,
     "metadata": {},
     "output_type": "execute_result"
    }
   ],
   "source": [
    "r2_score(y_train, y_pred)"
   ]
  },
  {
   "cell_type": "code",
   "execution_count": 89,
   "id": "070348a8",
   "metadata": {},
   "outputs": [
    {
     "data": {
      "text/plain": [
       "0.4484636737970915"
      ]
     },
     "execution_count": 89,
     "metadata": {},
     "output_type": "execute_result"
    }
   ],
   "source": [
    "np.sqrt(mean_squared_error(y_train, y_pred))"
   ]
  },
  {
   "cell_type": "code",
   "execution_count": 90,
   "id": "7e3d9d35",
   "metadata": {},
   "outputs": [],
   "source": [
    "y_pred_KNN_test = KNN_model.predict(X_test)"
   ]
  },
  {
   "cell_type": "code",
   "execution_count": 91,
   "id": "afca65ad",
   "metadata": {},
   "outputs": [],
   "source": [
    "r2_score_KNN = r2_score(y_test, y_pred_KNN_test)"
   ]
  },
  {
   "cell_type": "code",
   "execution_count": 92,
   "id": "f8920406",
   "metadata": {},
   "outputs": [],
   "source": [
    "rmse_KNN = np.sqrt(mean_squared_error(y_test, y_pred_KNN_test))"
   ]
  },
  {
   "cell_type": "code",
   "execution_count": 93,
   "id": "a6efa879",
   "metadata": {},
   "outputs": [
    {
     "data": {
      "text/plain": [
       "0.764988565870085"
      ]
     },
     "execution_count": 93,
     "metadata": {},
     "output_type": "execute_result"
    }
   ],
   "source": [
    "r2_score_KNN"
   ]
  },
  {
   "cell_type": "code",
   "execution_count": 94,
   "id": "e7159e69",
   "metadata": {},
   "outputs": [
    {
     "data": {
      "text/plain": [
       "0.4870832332067718"
      ]
     },
     "execution_count": 94,
     "metadata": {},
     "output_type": "execute_result"
    }
   ],
   "source": [
    "rmse_KNN"
   ]
  },
  {
   "cell_type": "code",
   "execution_count": 95,
   "id": "f2acd169",
   "metadata": {},
   "outputs": [],
   "source": [
    "res_KNN = pd.DataFrame(y_test-y_pred_KNN_test)"
   ]
  },
  {
   "cell_type": "code",
   "execution_count": 96,
   "id": "bac117e0",
   "metadata": {},
   "outputs": [
    {
     "data": {
      "image/png": "[encoded data removed]",
      "text/plain": [
       "<Figure size 504x360 with 1 Axes>"
      ]
     },
     "metadata": {},
     "output_type": "display_data"
    }
   ],
   "source": [
    "plot_dist_residual(res_KNN)"
   ]
  },
  {
   "cell_type": "code",
   "execution_count": 97,
   "id": "523acf70",
   "metadata": {},
   "outputs": [
    {
     "data": {
      "image/png": "[encoded data removed]",
      "text/plain": [
       "<Figure size 432x288 with 1 Axes>"
      ]
     },
     "metadata": {},
     "output_type": "display_data"
    }
   ],
   "source": [
    "plot_residual_plot(res_KNN)"
   ]
  },
  {
   "cell_type": "markdown",
   "id": "651f0f08",
   "metadata": {},
   "source": [
    "Decision Tree"
   ]
  },
  {
   "cell_type": "code",
   "execution_count": 98,
   "id": "c7b2b36f",
   "metadata": {},
   "outputs": [],
   "source": [
    "from sklearn.tree import DecisionTreeRegressor"
   ]
  },
  {
   "cell_type": "code",
   "execution_count": 99,
   "id": "49d9c5a4",
   "metadata": {},
   "outputs": [],
   "source": [
    "dt = DecisionTreeRegressor()"
   ]
  },
  {
   "cell_type": "code",
   "execution_count": 100,
   "id": "37ff2cce",
   "metadata": {},
   "outputs": [],
   "source": [
    "model_dt = dt.fit(X_train, y_train)"
   ]
  },
  {
   "cell_type": "code",
   "execution_count": 101,
   "id": "c08785dd",
   "metadata": {},
   "outputs": [],
   "source": [
    "y_pred_dt_train = model_dt.predict(X_train)"
   ]
  },
  {
   "cell_type": "code",
   "execution_count": 102,
   "id": "61a3c4b9",
   "metadata": {},
   "outputs": [
    {
     "data": {
      "text/plain": [
       "1.0"
      ]
     },
     "execution_count": 102,
     "metadata": {},
     "output_type": "execute_result"
    }
   ],
   "source": [
    "r2_score(y_train, y_pred_dt_train)"
   ]
  },
  {
   "cell_type": "code",
   "execution_count": 103,
   "id": "8ad422a2",
   "metadata": {},
   "outputs": [
    {
     "data": {
      "text/plain": [
       "9.813393256465103e-17"
      ]
     },
     "execution_count": 103,
     "metadata": {},
     "output_type": "execute_result"
    }
   ],
   "source": [
    "np.sqrt(mean_squared_error(y_train, y_pred_dt_train))"
   ]
  },
  {
   "cell_type": "code",
   "execution_count": 104,
   "id": "a6cbe80c",
   "metadata": {},
   "outputs": [
    {
     "data": {
      "text/plain": [
       "32"
      ]
     },
     "execution_count": 104,
     "metadata": {},
     "output_type": "execute_result"
    }
   ],
   "source": [
    "dt.tree_.max_depth"
   ]
  },
  {
   "cell_type": "code",
   "execution_count": 105,
   "id": "f376a47f",
   "metadata": {},
   "outputs": [
    {
     "data": {
      "text/plain": [
       "array([0.31643449, 0.        , 0.00060269, 0.00536786, 0.10514015,\n",
       "       0.11765743, 0.03284596, 0.02257325, 0.0173193 , 0.02715412,\n",
       "       0.01233865, 0.34256611])"
      ]
     },
     "execution_count": 105,
     "metadata": {},
     "output_type": "execute_result"
    }
   ],
   "source": [
    "dt.feature_importances_"
   ]
  },
  {
   "cell_type": "code",
   "execution_count": 106,
   "id": "8fb3fbae",
   "metadata": {},
   "outputs": [],
   "source": [
    "param_dt = {\n",
    "    'max_depth' : range(1,dt.tree_.max_depth +1),\n",
    "    'max_features' : range(1, len(dt.feature_importances_)+1),\n",
    "    'min_samples_split':[10,50,60,70],\n",
    "    'min_samples_leaf': [10,20,30,50]\n",
    "}"
   ]
  },
  {
   "cell_type": "code",
   "execution_count": 109,
   "id": "31c71d3b",
   "metadata": {},
   "outputs": [],
   "source": [
    "dt = DecisionTreeRegressor(max_depth=15,\n",
    "                          max_features=11,\n",
    "                          min_samples_leaf=10,\n",
    "                          min_samples_split=10)"
   ]
  },
  {
   "cell_type": "code",
   "execution_count": 110,
   "id": "61224ae1",
   "metadata": {},
   "outputs": [],
   "source": [
    "model_dt = dt.fit(X_train, y_train)"
   ]
  },
  {
   "cell_type": "code",
   "execution_count": 111,
   "id": "0799ea1c",
   "metadata": {},
   "outputs": [],
   "source": [
    "y_pred_dt_train = model_dt.predict(X_train)"
   ]
  },
  {
   "cell_type": "code",
   "execution_count": 112,
   "id": "607b715d",
   "metadata": {},
   "outputs": [
    {
     "data": {
      "text/plain": [
       "0.8736134277101599"
      ]
     },
     "execution_count": 112,
     "metadata": {},
     "output_type": "execute_result"
    }
   ],
   "source": [
    "r2_score(y_train, y_pred_dt_train)"
   ]
  },
  {
   "cell_type": "code",
   "execution_count": 113,
   "id": "747302dd",
   "metadata": {},
   "outputs": [
    {
     "data": {
      "text/plain": [
       "0.3555088919982734"
      ]
     },
     "execution_count": 113,
     "metadata": {},
     "output_type": "execute_result"
    }
   ],
   "source": [
    "np.sqrt(mean_squared_error(y_train, y_pred_dt_train))"
   ]
  },
  {
   "cell_type": "code",
   "execution_count": 114,
   "id": "325756ab",
   "metadata": {},
   "outputs": [],
   "source": [
    "y_pred_dt_test = model_dt.predict(X_test)"
   ]
  },
  {
   "cell_type": "code",
   "execution_count": 115,
   "id": "123a67fb",
   "metadata": {},
   "outputs": [],
   "source": [
    "r2_score_dt = r2_score(y_test, y_pred_dt_test)"
   ]
  },
  {
   "cell_type": "code",
   "execution_count": 116,
   "id": "fc95be3b",
   "metadata": {},
   "outputs": [],
   "source": [
    "rmse_dt = np.sqrt(mean_squared_error(y_test, y_pred_dt_test))"
   ]
  },
  {
   "cell_type": "code",
   "execution_count": 117,
   "id": "696e6a48",
   "metadata": {},
   "outputs": [
    {
     "data": {
      "text/plain": [
       "0.7718392363112497"
      ]
     },
     "execution_count": 117,
     "metadata": {},
     "output_type": "execute_result"
    }
   ],
   "source": [
    "r2_score_dt"
   ]
  },
  {
   "cell_type": "code",
   "execution_count": 118,
   "id": "cdb4e47c",
   "metadata": {},
   "outputs": [
    {
     "data": {
      "text/plain": [
       "0.479931399668097"
      ]
     },
     "execution_count": 118,
     "metadata": {},
     "output_type": "execute_result"
    }
   ],
   "source": [
    "rmse_dt"
   ]
  },
  {
   "cell_type": "code",
   "execution_count": 119,
   "id": "ceb8de30",
   "metadata": {},
   "outputs": [],
   "source": [
    "res_dt = pd.DataFrame(y_test-y_pred_dt_test.reshape(len(y_pred_dt_test),1))"
   ]
  },
  {
   "cell_type": "code",
   "execution_count": 120,
   "id": "7087e2d5",
   "metadata": {},
   "outputs": [
    {
     "data": {
      "image/png": "[encoded data removed]",
      "text/plain": [
       "<Figure size 504x360 with 1 Axes>"
      ]
     },
     "metadata": {},
     "output_type": "display_data"
    }
   ],
   "source": [
    "plot_dist_residual(res_dt)"
   ]
  },
  {
   "cell_type": "code",
   "execution_count": 121,
   "id": "2a4b1703",
   "metadata": {},
   "outputs": [
    {
     "data": {
      "image/png": "[encoded data removed]",
      "text/plain": [
       "<Figure size 432x288 with 1 Axes>"
      ]
     },
     "metadata": {},
     "output_type": "display_data"
    }
   ],
   "source": [
    "plot_residual_plot(res_dt)"
   ]
  },
  {
   "cell_type": "markdown",
   "id": "bee01bf4",
   "metadata": {},
   "source": [
    "Compairing Results"
   ]
  },
  {
   "cell_type": "code",
   "execution_count": 122,
   "id": "e102ba46",
   "metadata": {},
   "outputs": [],
   "source": [
    "final_result = pd.DataFrame(index=['LinearRegression',  'KNN model', 'DecisionTree'])"
   ]
  },
  {
   "cell_type": "code",
   "execution_count": 123,
   "id": "b2e12968",
   "metadata": {},
   "outputs": [],
   "source": [
    "final_result['r2_score'] = [r2_score_lr,  r2_score_KNN, r2_score_dt]"
   ]
  },
  {
   "cell_type": "code",
   "execution_count": 124,
   "id": "94d192ff",
   "metadata": {},
   "outputs": [],
   "source": [
    "final_result['RMSE'] = [rmse_lr, rmse_KNN, rmse_dt]"
   ]
  },
  {
   "cell_type": "code",
   "execution_count": 125,
   "id": "dd053eac",
   "metadata": {},
   "outputs": [
    {
     "data": {
      "text/html": [
       "<div>\n",
       "<style scoped>\n",
       "    .dataframe tbody tr th:only-of-type {\n",
       "        vertical-align: middle;\n",
       "    }\n",
       "\n",
       "    .dataframe tbody tr th {\n",
       "        vertical-align: top;\n",
       "    }\n",
       "\n",
       "    .dataframe thead th {\n",
       "        text-align: right;\n",
       "    }\n",
       "</style>\n",
       "<table border=\"1\" class=\"dataframe\">\n",
       "  <thead>\n",
       "    <tr style=\"text-align: right;\">\n",
       "      <th></th>\n",
       "      <th>r2_score</th>\n",
       "      <th>RMSE</th>\n",
       "    </tr>\n",
       "  </thead>\n",
       "  <tbody>\n",
       "    <tr>\n",
       "      <th>LinearRegression</th>\n",
       "      <td>0.699107</td>\n",
       "      <td>0.551143</td>\n",
       "    </tr>\n",
       "    <tr>\n",
       "      <th>KNN model</th>\n",
       "      <td>0.764989</td>\n",
       "      <td>0.487083</td>\n",
       "    </tr>\n",
       "    <tr>\n",
       "      <th>DecisionTree</th>\n",
       "      <td>0.771839</td>\n",
       "      <td>0.479931</td>\n",
       "    </tr>\n",
       "  </tbody>\n",
       "</table>\n",
       "</div>"
      ],
      "text/plain": [
       "                  r2_score      RMSE\n",
       "LinearRegression  0.699107  0.551143\n",
       "KNN model         0.764989  0.487083\n",
       "DecisionTree      0.771839  0.479931"
      ]
     },
     "execution_count": 125,
     "metadata": {},
     "output_type": "execute_result"
    }
   ],
   "source": [
    "final_result"
   ]
  },
  {
   "cell_type": "code",
   "execution_count": null,
   "id": "fe4317fd",
   "metadata": {},
   "outputs": [],
   "source": []
  }
 ],
 "metadata": {
  "kernelspec": {
   "display_name": "Python 3 (ipykernel)",
   "language": "python",
   "name": "python3"
  },
  "language_info": {
   "codemirror_mode": {
    "name": "ipython",
    "version": 3
   },
   "file_extension": ".py",
   "mimetype": "text/x-python",
   "name": "python",
   "nbconvert_exporter": "python",
   "pygments_lexer": "ipython3",
   "version": "3.9.7"
  }
 },
 "nbformat": 4,
 "nbformat_minor": 5
}
